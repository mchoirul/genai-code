{
  "nbformat": 4,
  "nbformat_minor": 0,
  "metadata": {
    "colab": {
      "provenance": [],
      "include_colab_link": true
    },
    "kernelspec": {
      "name": "python3",
      "display_name": "Python 3"
    },
    "language_info": {
      "name": "python"
    }
  },
  "cells": [
    {
      "cell_type": "markdown",
      "metadata": {
        "id": "view-in-github",
        "colab_type": "text"
      },
      "source": [
        "<a href=\"https://colab.research.google.com/github/mchoirul/genai-code/blob/main/notebook/googlenews_summarize_vertex_langchain-git.ipynb\" target=\"_parent\"><img src=\"https://colab.research.google.com/assets/colab-badge.svg\" alt=\"Open In Colab\"/></a>"
      ]
    },
    {
      "cell_type": "markdown",
      "source": [
        "# Summarizing Google News Headlines Using VertexAI PALM API & Langchain\n",
        "\n",
        "In this tutorial, we will perform news summarization of news content gathered from Google News using the following components:\n",
        "\n",
        "- GNews API: Collect news titles & metadata from Google News\n",
        "- Langchain's UnstructuredURLLoader: Retrieve news content\n",
        "- Vertex PALM API: Generate news summary\n",
        "\n",
        "Vertex PALM API is a large language model (LLM) that can be used for a variety of tasks, including text summarization. In this tutorial, we will use the text-bison@001 model from PALM API to summarize news content.\n",
        "\n",
        "Reference and credit to the following resources:\n",
        "- https://github.com/ranahaani/GNews\n",
        "- https://alphasec.io/summarize-google-news-results-with-langchain-and-serper-api/\n",
        "\n",
        "## Objectives:\n",
        "- Learn how to use GNews API, Langchain's UnstructuredURLLoader, and Vertex PALM API to perform news summarization\n",
        "- Create a news summarization function that can be used to automate the process of generating news summaries\n",
        "- Gain a better understanding of the different steps involved in news summarization"
      ],
      "metadata": {
        "id": "lFOAJkMQ88UQ"
      }
    },
    {
      "cell_type": "markdown",
      "source": [
        "## Installation & Preparation"
      ],
      "metadata": {
        "id": "8h46m3ouKevL"
      }
    },
    {
      "cell_type": "code",
      "source": [
        "#install all required package\n",
        "!pip -q install langchain\n",
        "!pip install google-cloud-aiplatform\n",
        "!pip install gnews\n",
        "!pip install unstructured"
      ],
      "metadata": {
        "id": "50lw3hHoJgKb"
      },
      "execution_count": null,
      "outputs": []
    },
    {
      "cell_type": "code",
      "source": [
        "# restart kernel after installs so that your environment can access the new packages\n",
        "import IPython\n",
        "\n",
        "app = IPython.Application.instance()\n",
        "app.kernel.do_shutdown(True)"
      ],
      "metadata": {
        "colab": {
          "base_uri": "https://localhost:8080/"
        },
        "id": "11c721ZDoqYD",
        "outputId": "60de60f4-daf6-4fab-be3a-77d5b1daaefd"
      },
      "execution_count": 3,
      "outputs": [
        {
          "output_type": "execute_result",
          "data": {
            "text/plain": [
              "{'status': 'ok', 'restart': True}"
            ]
          },
          "metadata": {},
          "execution_count": 3
        }
      ]
    },
    {
      "cell_type": "code",
      "source": [
        "# import required packages\n",
        "from langchain.llms import VertexAI\n",
        "from langchain.chains.summarize import load_summarize_chain\n",
        "from langchain.prompts import PromptTemplate\n",
        "from langchain.document_loaders import UnstructuredURLLoader\n"
      ],
      "metadata": {
        "id": "RJYjw061IVML"
      },
      "execution_count": 2,
      "outputs": []
    },
    {
      "cell_type": "code",
      "source": [
        "# authenticate to google cloud account\n",
        "from google.colab import auth as google_auth\n",
        "google_auth.authenticate_user()"
      ],
      "metadata": {
        "id": "jKhQPmtAA4gt"
      },
      "execution_count": 3,
      "outputs": []
    },
    {
      "cell_type": "code",
      "source": [
        "#google cloud project name\n",
        "#replace with your project name\n",
        "\n",
        "import vertexai\n",
        "\n",
        "PROJECT_ID = \"my-project-id\"  # @param {type:\"string\"}\n",
        "vertexai.init(project=PROJECT_ID, location=\"us-central1\")"
      ],
      "metadata": {
        "id": "dgJ7YVmGA03r"
      },
      "execution_count": 5,
      "outputs": []
    },
    {
      "cell_type": "markdown",
      "source": [
        "## Calling GNews API to Get News Metadata\n",
        "Limit news period using the following time operators:\n",
        " - h = hours (eg: 12h)\n",
        " - d = days (eg: 7d)\n",
        " - m = months (eg: 6m)\n",
        " - y = years (eg: 1y)\n",
        "\n",
        "Example:\n",
        "\n",
        "`google_news.period = '3d'  # News from last 3 days `"
      ],
      "metadata": {
        "id": "kaq1BbI2KuYK"
      }
    },
    {
      "cell_type": "code",
      "source": [
        "from gnews import GNews\n",
        "\n",
        "google_news = GNews()\n",
        "google_news.period = '1d'  # News from last 1 day\n",
        "google_news.max_results = 5  # number of responses across a keyword\n",
        "google_news.country = 'ID'  # News from a specific country = Indonesia\n",
        "google_news.language = 'id'  # News in a specific language = Bahasa Indonesia\n",
        "google_news.exclude_websites = ['yahoo.com', 'cnn.com', 'msn.con']  # Exclude news from specific website i.e Yahoo.com and msn.com\n",
        "\n",
        "#use date range if required\n",
        "#google_news.start_date = (2023, 1, 1) # Search from 1st Jan 2023\n",
        "#google_news.end_date = (2023, 4, 1) # Search until 1st April 2023\n",
        "\n",
        "#get by keyword\n",
        "news_by_keyword = google_news.get_news('kereta cepat')"
      ],
      "metadata": {
        "id": "3iq1o4rqpdMF"
      },
      "execution_count": 8,
      "outputs": []
    },
    {
      "cell_type": "code",
      "source": [
        "#check collected news metadata\n",
        "news_by_keyword"
      ],
      "metadata": {
        "colab": {
          "base_uri": "https://localhost:8080/"
        },
        "id": "kBHnKvXxp3ZA",
        "outputId": "dac7b36b-2b3b-4b18-89d1-4836ee293d9f"
      },
      "execution_count": 9,
      "outputs": [
        {
          "output_type": "execute_result",
          "data": {
            "text/plain": [
              "[{'title': 'Tarif Kereta Cepat Jakarta-Kota Bandung Rp 350 Ribu, Mahal? - CNBC Indonesia',\n",
              "  'description': 'Tarif Kereta Cepat Jakarta-Kota Bandung Rp 350 Ribu, Mahal?  CNBC Indonesia',\n",
              "  'published date': 'Sat, 30 Sep 2023 09:45:00 GMT',\n",
              "  'url': 'https://news.google.com/rss/articles/CBMidGh0dHBzOi8vd3d3LmNuYmNpbmRvbmVzaWEuY29tL25ld3MvMjAyMzA5MzAxMjQ0NTktNC00NzY2NzQvdGFyaWYta2VyZXRhLWNlcGF0LWpha2FydGEta290YS1iYW5kdW5nLXJwLTM1MC1yaWJ1LW1haGFs0gF4aHR0cHM6Ly93d3cuY25iY2luZG9uZXNpYS5jb20vbmV3cy8yMDIzMDkzMDEyNDQ1OS00LTQ3NjY3NC90YXJpZi1rZXJldGEtY2VwYXQtamFrYXJ0YS1rb3RhLWJhbmR1bmctcnAtMzUwLXJpYnUtbWFoYWwvYW1w?oc=5&hl=en-US&gl=US&ceid=US:en',\n",
              "  'publisher': {'href': 'https://www.cnbcindonesia.com',\n",
              "   'title': 'CNBC Indonesia'}},\n",
              " {'title': 'Siaran Pers: Kereta Cepat \"Whoosh\" Diharapkan Perkuat Capaian ... - Kemenparekraf',\n",
              "  'description': 'Siaran Pers: Kereta Cepat \"Whoosh\" Diharapkan Perkuat Capaian ...  Kemenparekraf',\n",
              "  'published date': 'Sat, 30 Sep 2023 05:53:06 GMT',\n",
              "  'url': 'https://news.google.com/rss/articles/CBMieWh0dHBzOi8va2VtZW5wYXJla3JhZi5nby5pZC9iZXJpdGEvc2lhcmFuLXBlcnMta2VyZXRhLWNlcGF0LXdob29zaC1kaWhhcmFwa2FuLXBlcmt1YXQtY2FwYWlhbi10YXJnZXQtd2lzYXRhd2FuLXRhaHVuLTIwMjPSAQA?oc=5&hl=en-US&gl=US&ceid=US:en',\n",
              "  'publisher': {'href': 'https://kemenparekraf.go.id',\n",
              "   'title': 'Kemenparekraf'}},\n",
              " {'title': 'Kereta Cepat Diharapkan Bantu Geliatkan Kunjungan Wisatawan ... - Republika Online',\n",
              "  'description': 'Kereta Cepat Diharapkan Bantu Geliatkan Kunjungan Wisatawan ...  Republika Online',\n",
              "  'published date': 'Sat, 30 Sep 2023 14:40:05 GMT',\n",
              "  'url': 'https://news.google.com/rss/articles/CBMibGh0dHBzOi8vZWtvbm9taS5yZXB1Ymxpa2EuY28uaWQvYmVyaXRhL3Mxc3pldDQ5MC9rZXJldGEtY2VwYXQtZGloYXJhcGthbi1iYW50dS1nZWxpYXRrYW4ta3VuanVuZ2FuLXdpc2F0YXdhbtIBAA?oc=5&hl=en-US&gl=US&ceid=US:en',\n",
              "  'publisher': {'href': 'https://ekonomi.republika.co.id',\n",
              "   'title': 'Republika Online'}},\n",
              " {'title': 'Stasiun Padalarang Siap Sambut Penumpang Kereta Cepat Jakarta ... - kompas.id',\n",
              "  'description': 'Stasiun Padalarang Siap Sambut Penumpang Kereta Cepat Jakarta ...  kompas.id',\n",
              "  'published date': 'Sat, 30 Sep 2023 12:57:47 GMT',\n",
              "  'url': 'https://news.google.com/rss/articles/CBMidWh0dHBzOi8vd3d3LmtvbXBhcy5pZC9iYWNhL251c2FudGFyYS8yMDIzLzA5LzMwL3N0YXNpdW4tcGFkYWxhcmFuZy1zaWFwLXNhbWJ1dC1wZW51bXBhbmcta2VyZXRhLWNlcGF0LWpha2FydGEtYmFuZHVuZ9IBAA?oc=5&hl=en-US&gl=US&ceid=US:en',\n",
              "  'publisher': {'href': 'https://www.kompas.id', 'title': 'kompas.id'}},\n",
              " {'title': '20 Awak Redaksi Rakyat Merdeka Jajal Kereta Cepat Whoosh - RM.ID',\n",
              "  'description': '20 Awak Redaksi Rakyat Merdeka Jajal Kereta Cepat Whoosh  RM.ID',\n",
              "  'published date': 'Sun, 01 Oct 2023 00:40:00 GMT',\n",
              "  'url': 'https://news.google.com/rss/articles/CBMilwFodHRwczovL3JtLmlkL2JhY2EtYmVyaXRhL21lZ2Fwb2xpdGFuLzE5MDcwMS8yMC1hd2FrLXJlZGFrc2ktcmFreWF0LW1lcmRla2EtamFqYWwta2VyZXRhLWNlcGF0LXdob29zaC1rb3BpLWRpLWdlbGFzLW1hc2loLXBhbmFzLWVoLXN1ZGFoLW55YW1wZS1iYW5kdW5n0gGbAWh0dHBzOi8vcm0uaWQvYW1wL2JhY2EtYmVyaXRhL21lZ2Fwb2xpdGFuLzE5MDcwMS8yMC1hd2FrLXJlZGFrc2ktcmFreWF0LW1lcmRla2EtamFqYWwta2VyZXRhLWNlcGF0LXdob29zaC1rb3BpLWRpLWdlbGFzLW1hc2loLXBhbmFzLWVoLXN1ZGFoLW55YW1wZS1iYW5kdW5n?oc=5&hl=en-US&gl=US&ceid=US:en',\n",
              "  'publisher': {'href': 'https://rm.id', 'title': 'RM.ID'}}]"
            ]
          },
          "metadata": {},
          "execution_count": 9
        }
      ]
    },
    {
      "cell_type": "code",
      "source": [
        "#test another method\n",
        "#instead of search by keyword, let's retrieve top news from google-news\n",
        "\n",
        "#get top news from the last 7 days\n",
        "google_news = GNews(language='id', country='ID', period='7d',\n",
        "                    start_date=None, end_date=None, max_results=10)\n",
        "top_news = google_news.get_top_news()\n",
        "\n",
        "#check collected news metadata\n",
        "top_news"
      ],
      "metadata": {
        "colab": {
          "base_uri": "https://localhost:8080/"
        },
        "id": "1q-Oc_ds8A3I",
        "outputId": "3d96d4a6-cfa4-4ae9-c02a-7f0af2842a6b"
      },
      "execution_count": 10,
      "outputs": [
        {
          "output_type": "execute_result",
          "data": {
            "text/plain": [
              "[{'title': 'Putra Megawati Sopiri Ganjar dan Rombongan Melaju di Atas Karpet Merah Rakernas IV PDI-P - Kompas.com - Nasional Kompas.com',\n",
              "  'description': 'Putra Megawati Sopiri Ganjar dan Rombongan Melaju di Atas Karpet Merah Rakernas IV PDI-P - Kompas.com  Nasional Kompas.comEffendi Gazali: Ganjar Berhasil Jadi Bintang Rakernas PDIP | Kanal Pemilu Tepercaya  CNN IndonesiaPuan Maharani Heran Minimnya Tepuk Tangan di Rakernas PDIP: Kayak Nonton Wayang  Nasional TempoMomen Ganjar dan Jokowi Gandeng Megawati di Rakernas, PDI-P: Jauhkan Berbagai Spekulasi - Kompas.com  Nasional Kompas.comPakar Sebut Jokowi Sudah Bayangkan Ganjar Dilantik Jadi Presiden RI  detikNewsLihat Liputan Lengkap di Google Berita',\n",
              "  'published date': 'Sat, 30 Sep 2023 10:31:00 GMT',\n",
              "  'url': 'https://news.google.com/rss/articles/CBMie2h0dHBzOi8vbmFzaW9uYWwua29tcGFzLmNvbS9yZWFkLzIwMjMvMDkvMzAvMTczMTU5MDEvcHV0cmEtbWVnYXdhdGktc29waXJpLWdhbmphci1kYW4tcm9tYm9uZ2FuLW1lbGFqdS1kaS1hdGFzLWthcnBldC1tZXJhaNIBf2h0dHBzOi8vYW1wLmtvbXBhcy5jb20vbmFzaW9uYWwvcmVhZC8yMDIzLzA5LzMwLzE3MzE1OTAxL3B1dHJhLW1lZ2F3YXRpLXNvcGlyaS1nYW5qYXItZGFuLXJvbWJvbmdhbi1tZWxhanUtZGktYXRhcy1rYXJwZXQtbWVyYWg?oc=5&hl=en-US&gl=US&ceid=US:en',\n",
              "  'publisher': {'href': 'https://nasional.kompas.com',\n",
              "   'title': 'Nasional Kompas.com'}},\n",
              " {'title': 'Teka-teki Siapa Coba Musnahkan Bukti Saat KPK Geledah Kementan - detikNews',\n",
              "  'description': 'Teka-teki Siapa Coba Musnahkan Bukti Saat KPK Geledah Kementan  detikNewsKasus Korupsi Kementan, Tim Penyidik Sudah Kantongi Nama-Nama Tersangka?  KOMPASTVPolda Metro Jaya Koordinasi dengan Baintelkam Polri Cek Legalitas 12 Senjata Api di Rumdin Mentan  Tribunnews.comMomen Mentan di Spanyol Saat Rumah Dinas & Kantor Digeledah KPK  detikFinanceSita 12 Senjata Api dari Rumah Mentan Syahrul Yasin Limpo, Begini Kata Polisi  KOMPASTVLihat Liputan Lengkap di Google Berita',\n",
              "  'published date': 'Sun, 01 Oct 2023 00:01:00 GMT',\n",
              "  'url': 'https://news.google.com/rss/articles/CBMiZmh0dHBzOi8vbmV3cy5kZXRpay5jb20vYmVyaXRhL2QtNjk1ODc5NC90ZWthLXRla2ktc2lhcGEtY29iYS1tdXNuYWhrYW4tYnVrdGktc2FhdC1rcGstZ2VsZWRhaC1rZW1lbnRhbtIBamh0dHBzOi8vbmV3cy5kZXRpay5jb20vYmVyaXRhL2QtNjk1ODc5NC90ZWthLXRla2ktc2lhcGEtY29iYS1tdXNuYWhrYW4tYnVrdGktc2FhdC1rcGstZ2VsZWRhaC1rZW1lbnRhbi9hbXA?oc=5&hl=en-US&gl=US&ceid=US:en',\n",
              "  'publisher': {'href': 'https://news.detik.com', 'title': 'detikNews'}},\n",
              " {'title': 'KPK Soal MA Cabut Aturan Koruptor Nyaleg: Biar Takut Korupsi - CNN Indonesia',\n",
              "  'description': 'KPK Soal MA Cabut Aturan Koruptor Nyaleg: Biar Takut Korupsi  CNN IndonesiaMA Kabulkan Gugatan ICW Soal Mantan Koruptor Nyaleg?  METRO TVMA Perintahkan KPU Cabut Aturan Karpet Merah Eks Koruptor Nyaleg  CNN IndonesiaMA Perintahkan KPU Cabut Dua Ketentuan yang Mudahkan Eks Terpidana Korupsi \"Nyaleg\" - Kompas.com  Nasional Kompas.comLihat Liputan Lengkap di Google Berita',\n",
              "  'published date': 'Sat, 30 Sep 2023 19:10:00 GMT',\n",
              "  'url': 'https://news.google.com/rss/articles/CBMie2h0dHBzOi8vd3d3LmNubmluZG9uZXNpYS5jb20vbmFzaW9uYWwvMjAyMzEwMDEwMTA3MDgtMTItMTAwNTY1Mi9rcGstc29hbC1tYS1jYWJ1dC1hdHVyYW4ta29ydXB0b3ItbnlhbGVnLWJpYXItdGFrdXQta29ydXBzadIBf2h0dHBzOi8vd3d3LmNubmluZG9uZXNpYS5jb20vbmFzaW9uYWwvMjAyMzEwMDEwMTA3MDgtMTItMTAwNTY1Mi9rcGstc29hbC1tYS1jYWJ1dC1hdHVyYW4ta29ydXB0b3ItbnlhbGVnLWJpYXItdGFrdXQta29ydXBzaS9hbXA?oc=5&hl=en-US&gl=US&ceid=US:en',\n",
              "  'publisher': {'href': 'https://www.cnnindonesia.com',\n",
              "   'title': 'CNN Indonesia'}},\n",
              " {'title': 'Hasto: Gibran Sudah Lapor Dipinang PBB Jadi Cawapres Prabowo | Republika Online - Republika Online',\n",
              "  'description': \"Hasto: Gibran Sudah Lapor Dipinang PBB Jadi Cawapres Prabowo | Republika Online  Republika OnlineHasto: Gibran Sudah Lapor PDIP Diusulkan Jadi Cawapres Prabowo  CNN IndonesiaRespons Puan Maharani soal Gibran Dipinang Jadi Cawapres Prabowo  KOMPASTVUsung Yusril Cawapres Prabowo, Majelis Syuro PBB Yakin Parpol Lain Legowo  detikNewsBeda Sikap PDI Perjuangan dan Golkar saat Kader 'Dipinang' untuk Prabowo Subianto pada Pilpres 2024 - Ayo Bogor  Ayo BogorLihat Liputan Lengkap di Google Berita\",\n",
              "  'published date': 'Sat, 30 Sep 2023 14:00:00 GMT',\n",
              "  'url': 'https://news.google.com/rss/articles/CBMiaWh0dHBzOi8vbmV3cy5yZXB1Ymxpa2EuY28uaWQvYmVyaXRhL3Mxc3V5eTM3Ny9oYXN0by1naWJyYW4tc3VkYWgtbGFwb3ItZGlwaW5hbmctcGJiLWphZGktY2F3YXByZXMtcHJhYm93b9IBAA?oc=5&hl=en-US&gl=US&ceid=US:en',\n",
              "  'publisher': {'href': 'https://news.republika.co.id',\n",
              "   'title': 'Republika Online'}},\n",
              " {'title': 'Survei Baru Capres Anies Vs Prabowo Vs Ganjar, Siapa Unggul? - CNBC Indonesia',\n",
              "  'description': 'Survei Baru Capres Anies Vs Prabowo Vs Ganjar, Siapa Unggul?  CNBC IndonesiaBurhanuddin Muhtadi: Ganjar Pranowo Unggul karena Faktor Sosialisasi | Kanal Pemilu Tepercaya  CNN IndonesiaSurvei Indikator: Tren Elektabilitas Ganjar Terus Naik, Prabowo Turun  detikNewsPrabowo Digdaya di Jabar, PKS: Kita Paham Petanya  detikJabarLihat Liputan Lengkap di Google Berita',\n",
              "  'published date': 'Sat, 30 Sep 2023 15:00:00 GMT',\n",
              "  'url': 'https://news.google.com/rss/articles/CBMidWh0dHBzOi8vd3d3LmNuYmNpbmRvbmVzaWEuY29tL25ld3MvMjAyMzA5MzAxODM3NTYtNC00NzY3MjMvc3VydmVpLWJhcnUtY2FwcmVzLWFuaWVzLXZzLXByYWJvd28tdnMtZ2FuamFyLXNpYXBhLXVuZ2d1bNIBAA?oc=5&hl=en-US&gl=US&ceid=US:en',\n",
              "  'publisher': {'href': 'https://www.cnbcindonesia.com',\n",
              "   'title': 'CNBC Indonesia'}},\n",
              " {'title': 'Tarif Baru LRT Jabodebek Berlaku Hari Ini, Maksimal Rp 20 Ribu - detikFinance',\n",
              "  'description': 'Tarif Baru LRT Jabodebek Berlaku Hari Ini, Maksimal Rp 20 Ribu  detikFinanceTerkini Bisnis: Tarif Flat LRT Jabodebek, Jokowi Sebut Jumlah Waduk di Indonesia  Bisnis Tempo.coPengumuman! Mulai 1 Oktober Tarif LRT Jabodebek Maksimal Rp 20.000  detikFinanceResmi, Ini Tarif Promo LRT Jabodebek mulai 1 Oktober 2023 - Kompas.com  Kompas.comIngat, Mulai 1 Oktober, Tarif LRT Jabodebek Tidak Lagi \"Pukul Rata\" Rp 5.000 - Kompas.com  Kompas.comLihat Liputan Lengkap di Google Berita',\n",
              "  'published date': 'Sat, 30 Sep 2023 23:30:32 GMT',\n",
              "  'url': 'https://news.google.com/rss/articles/CBMib2h0dHBzOi8vZmluYW5jZS5kZXRpay5jb20vaW5mcmFzdHJ1a3R1ci9kLTY5NTg2NzMvdGFyaWYtYmFydS1scnQtamFib2RlYmVrLWJlcmxha3UtaGFyaS1pbmktbWFrc2ltYWwtcnAtMjAtcmliddIBc2h0dHBzOi8vZmluYW5jZS5kZXRpay5jb20vaW5mcmFzdHJ1a3R1ci9kLTY5NTg2NzMvdGFyaWYtYmFydS1scnQtamFib2RlYmVrLWJlcmxha3UtaGFyaS1pbmktbWFrc2ltYWwtcnAtMjAtcmlidS9hbXA?oc=5&hl=en-US&gl=US&ceid=US:en',\n",
              "  'publisher': {'href': 'https://finance.detik.com', 'title': 'detikFinance'}},\n",
              " {'title': 'Peristiwa G30S/PKI: Sejarah, Kronologi, dan Tokohnya - Kompas.com - KOMPAS.com',\n",
              "  'description': 'Peristiwa G30S/PKI: Sejarah, Kronologi, dan Tokohnya - Kompas.com  KOMPAS.com[VIDEO ARSIP] PENGAKUAN SOEHARTO soal G30S/PKI: Bung Karno Tahu Saya akan Bubarkan PKI  TribunnewsJadi Film Wajib Era Soeharto, Mengapa \"Penumpasan Pengkhianatan G30S/PKI\" Berhenti Ditayangkan? - Kompas.com  KOMPAS.comTanggal 30 September Memperingati Hari Apa? Simak 6 Daftarnya  detikJabarJam Berapa Film G30S/PKI Tayang? Ini Jadwal dan Streaming-nya!  detikSumutLihat Liputan Lengkap di Google Berita',\n",
              "  'published date': 'Sat, 30 Sep 2023 15:00:00 GMT',\n",
              "  'url': 'https://news.google.com/rss/articles/CBMicGh0dHBzOi8vd3d3LmtvbXBhcy5jb20vdHJlbi9yZWFkLzIwMjMvMDkvMzAvMjIwMDAwMjY1L3BlcmlzdGl3YS1nMzBzLXBraS1zZWphcmFoLWtyb25vbG9naS1kYW4tdG9rb2hueWE_cGFnZT1hbGzSAWdodHRwczovL2FtcC5rb21wYXMuY29tL3RyZW4vcmVhZC8yMDIzLzA5LzMwLzIyMDAwMDI2NS9wZXJpc3Rpd2EtZzMwcy1wa2ktc2VqYXJhaC1rcm9ub2xvZ2ktZGFuLXRva29obnlh?oc=5&hl=en-US&gl=US&ceid=US:en',\n",
              "  'publisher': {'href': 'https://www.kompas.com', 'title': 'KOMPAS.com'}},\n",
              " {'title': 'Kabar Terbaru dari Siswa Pelaku Perundungan di Cilacap: Sadar Perbuatannya Salah - tvOneNews.com',\n",
              "  'description': 'Kabar Terbaru dari Siswa Pelaku Perundungan di Cilacap: Sadar Perbuatannya Salah  tvOneNews.comUsai Dirujuk, Kondisi Siswa SMP Korban Bully di Cilacap Mulai Membaik  KOMPASTVMK Ketua Geng Barisan Siswa Aniaya FF Di Cilacap Kini Menyesal, Sadar Tindakan Aniaya Salah  Tribun SumselKemungkinan Kasus Tersangka Bvlly1ng Bisa Bertambah  METRO TVViral Lagi Video Perundungan Cilacap, Polisi: Kelompok yang Sama  tvOneNews.comLihat Liputan Lengkap di Google Berita',\n",
              "  'published date': 'Sat, 30 Sep 2023 16:42:01 GMT',\n",
              "  'url': 'https://news.google.com/rss/articles/CBMifmh0dHBzOi8vd3d3LnR2b25lbmV3cy5jb20vZGFlcmFoL2phdGVuZy8xNTYzMjAta2FiYXItdGVyYmFydS1kYXJpLXNpc3dhLXBlbGFrdS1wZXJ1bmR1bmdhbi1kaS1jaWxhY2FwLXNhZGFyLXBlcmJ1YXRhbm55YS1zYWxhaNIBggFodHRwczovL3d3dy50dm9uZW5ld3MuY29tL2FtcC9kYWVyYWgvamF0ZW5nLzE1NjMyMC1rYWJhci10ZXJiYXJ1LWRhcmktc2lzd2EtcGVsYWt1LXBlcnVuZHVuZ2FuLWRpLWNpbGFjYXAtc2FkYXItcGVyYnVhdGFubnlhLXNhbGFo?oc=5&hl=en-US&gl=US&ceid=US:en',\n",
              "  'publisher': {'href': 'https://www.tvonenews.com',\n",
              "   'title': 'tvOneNews.com'}},\n",
              " {'title': 'Breaking News: 6 Kendaraan Terlibat Kecelakaan Beruntun di Tol Ungaran-Semarang - Jateng Solopos.com',\n",
              "  'description': 'Breaking News: 6 Kendaraan Terlibat Kecelakaan Beruntun di Tol Ungaran-Semarang  Jateng Solopos.comKecelakaan Beruntun di Tol Semarang, Kendaraan Sampai Tumpang Tindih  detikNewsKecelakaan Beruntun di Tol Semarang Libatkan 6 Kendaraan, Mobil Sampai Tumpang Tindih  TribunnewsKecelakaan Beruntun di Tol Semarang Dipicu Bus yang Tabrak Kendaraan di Depannya - kumparan.com  kumparan.comKondisi Honda Freed Tak Terbentuk Usai Tertindih CR-V di Tol Semarang  20DetikLihat Liputan Lengkap di Google Berita',\n",
              "  'published date': 'Sat, 30 Sep 2023 06:11:35 GMT',\n",
              "  'url': 'https://news.google.com/rss/articles/CBMicWh0dHBzOi8vamF0ZW5nLnNvbG9wb3MuY29tL2JyZWFraW5nLW5ld3MtNi1rZW5kYXJhYW4tdGVybGliYXQta2VjZWxha2Fhbi1iZXJ1bnR1bi1kaS10b2wtdW5nYXJhbi1zZW1hcmFuZy0xNzU0Njky0gF1aHR0cHM6Ly9qYXRlbmcuc29sb3Bvcy5jb20vYnJlYWtpbmctbmV3cy02LWtlbmRhcmFhbi10ZXJsaWJhdC1rZWNlbGFrYWFuLWJlcnVudHVuLWRpLXRvbC11bmdhcmFuLXNlbWFyYW5nLTE3NTQ2OTIvYW1w?oc=5&hl=en-US&gl=US&ceid=US:en',\n",
              "  'publisher': {'href': 'https://jateng.solopos.com',\n",
              "   'title': 'Jateng Solopos.com'}},\n",
              " {'title': 'Dedek Prayudi Beberkan Kronologi Terpilihnya Kaesang Pangarep Jadi Ketum PSI | Liputan 6 - Liputan6',\n",
              "  'description': 'Dedek Prayudi Beberkan Kronologi Terpilihnya Kaesang Pangarep Jadi Ketum PSI | Liputan 6  Liputan6Kaesang Sebut Pak Lurah, saat Ingatkan Arah Dukungan PSI untuk Pilpres 2024  KOMPASTVPSI Sambut Baik Jika Jokowi Bergabung Jadi Kader Susul Kaesang  CNN IndonesiaELECTION UPDATE - Kaesang Jadi Ketum PSI, Demi Dinasti Politik Jokowi?  METRO TVKaesang Berencana Temui Megawati, Puan: Ketemu Saya Dulu  detikNewsLihat Liputan Lengkap di Google Berita',\n",
              "  'published date': 'Sat, 30 Sep 2023 10:54:26 GMT',\n",
              "  'url': 'https://news.google.com/rss/articles/CCAiC3doUmtObDVtbWtVmAEB?oc=5&hl=en-US&gl=US&ceid=US:en',\n",
              "  'publisher': {'href': 'https://www.youtube.com', 'title': 'Liputan6'}}]"
            ]
          },
          "metadata": {},
          "execution_count": 10
        }
      ]
    },
    {
      "cell_type": "code",
      "source": [
        "#collect metadata by news topic\n",
        "#Available topics: WORLD, NATION, BUSINESS, TECHNOLOGY, ENTERTAINMENT, SPORTS, SCIENCE, HEALTH\n",
        "\n",
        "google_news = GNews(language='id', country='ID',\n",
        "                    period='1d', start_date=None, end_date=None,\n",
        "                    max_results=5, exclude_websites = ['yahoo.com', 'msn'] )\n",
        "news_by_topic = google_news.get_news_by_topic('SPORTS')\n",
        "\n",
        "#check collected news\n",
        "news_by_topic\n"
      ],
      "metadata": {
        "colab": {
          "base_uri": "https://localhost:8080/"
        },
        "id": "dHiAf_7zvphJ",
        "outputId": "c772d60f-d456-48ed-da5f-fc1f5404eb45"
      },
      "execution_count": 14,
      "outputs": [
        {
          "output_type": "execute_result",
          "data": {
            "text/plain": [
              "[{'title': 'Tottenham Vs Liverpool: Badan Wasit Ngaku Salah, Gol Luis Diaz Harusnya Sah - detikSport',\n",
              "  'description': 'Tottenham Vs Liverpool: Badan Wasit Ngaku Salah, Gol Luis Diaz Harusnya Sah  detikSportJadwal Siaran Liga Inggris Malam Ini Live SCTV, Man United, M City dan Tottenham vs Liverpool  Tribun MataramanTottenham Vs Liverpool: Drama! Spurs Kalahkan 9 Pemain Si Merah  detikSportTottenham Kalahkan Sembilan Pemain Liverpool Berkat Gol Bunuh Diri Joel Matip Di Menit-Menit Akhir  Goal.comLihat Liputan Lengkap di Google Berita',\n",
              "  'published date': 'Sat, 30 Sep 2023 23:00:00 GMT',\n",
              "  'url': 'https://news.google.com/rss/articles/CBMiggFodHRwczovL3Nwb3J0LmRldGlrLmNvbS9zZXBha2JvbGEvbGlnYS1pbmdncmlzL2QtNjk1ODc3Ni90b3R0ZW5oYW0tdnMtbGl2ZXJwb29sLWJhZGFuLXdhc2l0LW5nYWt1LXNhbGFoLWdvbC1sdWlzLWRpYXotaGFydXNueWEtc2Fo0gGGAWh0dHBzOi8vc3BvcnQuZGV0aWsuY29tL3NlcGFrYm9sYS9saWdhLWluZ2dyaXMvZC02OTU4Nzc2L3RvdHRlbmhhbS12cy1saXZlcnBvb2wtYmFkYW4td2FzaXQtbmdha3Utc2FsYWgtZ29sLWx1aXMtZGlhei1oYXJ1c255YS1zYWgvYW1w?oc=5&hl=en-US&gl=US&ceid=US:en',\n",
              "  'publisher': {'href': 'https://sport.detik.com', 'title': 'detikSport'}},\n",
              " {'title': 'MU Vs Palace: Setan Merah Kalah! - detikSport',\n",
              "  'description': 'MU Vs Palace: Setan Merah Kalah!  detikSportRoy Hodgson, Pawangnya Manchester United di Old Trafford  detikSportLihat Liputan Lengkap di Google Berita',\n",
              "  'published date': 'Sat, 30 Sep 2023 15:58:02 GMT',\n",
              "  'url': 'https://news.google.com/rss/articles/CBMiV2h0dHBzOi8vc3BvcnQuZGV0aWsuY29tL3NlcGFrYm9sYS9saWdhLWluZ2dyaXMvZC02OTU4NjY3L211LXZzLXBhbGFjZS1zZXRhbi1tZXJhaC1rYWxhaNIBW2h0dHBzOi8vc3BvcnQuZGV0aWsuY29tL3NlcGFrYm9sYS9saWdhLWluZ2dyaXMvZC02OTU4NjY3L211LXZzLXBhbGFjZS1zZXRhbi1tZXJhaC1rYWxhaC9hbXA?oc=5&hl=en-US&gl=US&ceid=US:en',\n",
              "  'publisher': {'href': 'https://sport.detik.com', 'title': 'detikSport'}},\n",
              " {'title': 'Rating Pemain Manchester City Versus Wolverhampton Wanderers: Erling Haaland Cuma Sekadar Kameo Dalam Kekalahan Pertama - Goal.com',\n",
              "  'description': \"Rating Pemain Manchester City Versus Wolverhampton Wanderers: Erling Haaland Cuma Sekadar Kameo Dalam Kekalahan Pertama  Goal.comWolves Vs Man City: Keok 1-2, The Citizens Telan Kekalahan Perdana  detikSportTanpa Pep Guardiola, Manchester City Telan Kekalahan Pertama Di Liga Primer Inggris  Goal.comMan City Kewalahan Hadapi Kecepatan Para 'Serigala' Wolverhampton  detikSportLihat Liputan Lengkap di Google Berita\",\n",
              "  'published date': 'Sat, 30 Sep 2023 19:35:00 GMT',\n",
              "  'url': 'https://news.google.com/rss/articles/CBMiqQFodHRwczovL3d3dy5nb2FsLmNvbS9pZC9kYWZ0YXIvcmF0aW5nLXBlbWFpbi1tYW5jaGVzdGVyLWNpdHktdmVyc3VzLXdvbHZlcmhhbXB0b24td2FuZGVyZXJzLWVybGluZy1oYWFsYW5kLWN1bWEtc2VrYWRhci1rYW1lby1kYWxhbS1rZWthbGFoYW4tcGVydGFtYS9ibHRlOTNjODc2OTgwMzgyNDM50gEA?oc=5&hl=en-US&gl=US&ceid=US:en',\n",
              "  'publisher': {'href': 'https://www.goal.com', 'title': 'Goal.com'}},\n",
              " {'title': 'Kata-kata Zohri Usai Gagal Raih Medali di Asian Games 2023 - CNN Indonesia',\n",
              "  'description': 'Kata-kata Zohri Usai Gagal Raih Medali di Asian Games 2023  CNN IndonesiaLalu Muhammad Zohri Gagal Raih Medali di Final Lari 100 M Asian Games  detikSportKlasemen Asian Games Sabtu Malam: Indonesia Digusur Malaysia  CNN IndonesiaRobi dan Rikki Pecahkan Catatan Waktu Terbaik Meski tak Naik Podium  Republika OnlineLihat Liputan Lengkap di Google Berita',\n",
              "  'published date': 'Sat, 30 Sep 2023 17:55:36 GMT',\n",
              "  'url': 'https://news.google.com/rss/articles/CBMie2h0dHBzOi8vd3d3LmNubmluZG9uZXNpYS5jb20vb2xhaHJhZ2EvMjAyMzEwMDEwMDQwNTItMTc4LTEwMDU2NTEva2F0YS1rYXRhLXpvaHJpLXVzYWktZ2FnYWwtcmFpaC1tZWRhbGktZGktYXNpYW4tZ2FtZXMtMjAyM9IBf2h0dHBzOi8vd3d3LmNubmluZG9uZXNpYS5jb20vb2xhaHJhZ2EvMjAyMzEwMDEwMDQwNTItMTc4LTEwMDU2NTEva2F0YS1rYXRhLXpvaHJpLXVzYWktZ2FnYWwtcmFpaC1tZWRhbGktZGktYXNpYW4tZ2FtZXMtMjAyMy9hbXA?oc=5&hl=en-US&gl=US&ceid=US:en',\n",
              "  'publisher': {'href': 'https://www.cnnindonesia.com',\n",
              "   'title': 'CNN Indonesia'}},\n",
              " {'title': 'Hasil Salernitana vs Inter Milan: Skor 0-4 - Bola.net',\n",
              "  'description': 'Hasil Salernitana vs Inter Milan: Skor 0-4  Bola.netSalernitana Vs Inter Milan: Martinez Quat-trick, Nerazzurri Menang 4-0  detikSportBabak Pertama Salernitana vs Inter Milan di Liga Italia, Sanchez dan Klaassen Deadlock  Tribun KaltaraLihat Liputan Lengkap di Google Berita',\n",
              "  'published date': 'Sat, 30 Sep 2023 20:37:00 GMT',\n",
              "  'url': 'https://news.google.com/rss/articles/CBMiUWh0dHBzOi8vd3d3LmJvbGEubmV0L2l0YWxpYS9oYXNpbC1zYWxlcm5pdGFuYS12cy1pbnRlci1taWxhbi1za29yLTAtNC1mNmRmMTIuaHRtbNIBVWh0dHBzOi8vd3d3LmJvbGEubmV0L2FtcC9pdGFsaWEvaGFzaWwtc2FsZXJuaXRhbmEtdnMtaW50ZXItbWlsYW4tc2tvci0wLTQtZjZkZjEyLmh0bWw?oc=5&hl=en-US&gl=US&ceid=US:en',\n",
              "  'publisher': {'href': 'https://www.bola.net', 'title': 'Bola.net'}}]"
            ]
          },
          "metadata": {},
          "execution_count": 14
        }
      ]
    },
    {
      "cell_type": "markdown",
      "source": [
        "## Extract news content\n",
        "The `UnstructuredURLLoader` from Langchain library is usefull toolkit to get easy access to HTML contents from a url. This package is actually a wrapper of `bricks.html` partition from [Unstructured](https://unstructured-io.github.io/unstructured/bricks/partition.html#partition-html) library.  We will use it as a news content extractor by taking input from url collected at previous steps."
      ],
      "metadata": {
        "id": "BWhh3SmsU6ne"
      }
    },
    {
      "cell_type": "code",
      "source": [
        "#test to extract content from url inside news_by_topic\n",
        "\n",
        "urls = [news_by_topic[0]['url'],\n",
        "        news_by_topic[1]['url'],\n",
        "      ]\n",
        "\n",
        "loader = UnstructuredURLLoader(urls=urls)\n",
        "content = loader.load()\n",
        "\n",
        "#check news content\n",
        "content"
      ],
      "metadata": {
        "colab": {
          "base_uri": "https://localhost:8080/"
        },
        "id": "bwZ3SZ8cWJ8N",
        "outputId": "12765034-8ad6-4f60-cc95-4ecb0c6413f1"
      },
      "execution_count": 15,
      "outputs": [
        {
          "output_type": "execute_result",
          "data": {
            "text/plain": [
              "[Document(page_content='Tottenham Vs Liverpool: Badan Wasit Ngaku Salah, Gol Luis Diaz Harusnya Sah\\n\\n0 komentar\\n\\n\\n                BAGIKAN \\xa0\\n                \\n\\nTautan telah disalin\\n\\nMENU\\n\\ndetikcom\\n\\nTerpopuler\\n\\nKirim Tulisan\\n\\nLive TV\\n\\ndetikPemilu NEW\\n\\nKategori Berita\\n\\ndetikNews\\n\\ndetikFinance\\n\\ndetikInet\\n\\ndetikHot\\n\\ndetikSport\\n\\nSepakbola\\n\\ndetikOto\\n\\ndetikTravel\\n\\ndetikFood\\n\\ndetikHealth\\n\\nWolipop\\n\\ndetikX\\n\\n20Detik\\n\\ndetikFoto\\n\\ndetikEdu\\n\\ndetikHikmah\\n\\ndetikProperti\\n\\nDaerah\\n\\ndetikJateng\\n\\ndetikJatim\\n\\ndetikJabar\\n\\ndetikSulsel\\n\\ndetikSumut\\n\\ndetikBali\\n\\ndetikSumbagsel\\n\\ndetikJogja NEW\\n\\nLayanan\\n\\nPasang Mata\\n\\nAds Smart\\n\\nForum\\n\\ndetikEvent\\n\\nTrans Snow World\\n\\nTrans Studio\\n\\nberbuatbaik.id\\n\\nDetik Network\\n\\nCNN Indonesia\\n\\nCNBC Indonesia\\n\\nHai Bunda\\n\\nInsertLive\\n\\nBeautynesia\\n\\nFemale Daily\\n\\nCXO Media\\n\\nHome\\n\\nLiga Inggris\\n\\nLiga Italia\\n\\nLiga Spanyol\\n\\nLiga Jerman\\n\\nLiga Indonesia\\n\\nUEFA\\n\\nDunia\\n\\nIndeks\\n\\ndetikSport\\n\\nTerpopuler\\n\\nLive Score and Statistics\\n\\nJadwal\\n\\nKlasemen Liga\\n\\nFoto\\n\\nVideo\\n\\nInfografis\\n\\nMan Of The Match\\n\\nGila Bola\\n\\nLiga Inggris \\n                                                   Liga Italia\\n                                                   Liga Spanyol\\n                                                   Liga Jerman\\n                                                   Liga Indonesia\\n\\nMan City\\n\\nTottenham\\n\\nArsenal\\n\\nLiverpool\\n\\nAston Villa\\n\\nBrighton\\n\\nWest Ham\\n\\nNewcastle\\n\\nCrystal Palace\\n\\nMan Utd\\n\\nFulham\\n\\nNottm Forest\\n\\nWolves\\n\\nBrentford\\n\\nChelsea\\n\\nEverton\\n\\nLuton\\n\\nBournemouth\\n\\nBurnley\\n\\nSheff Utd\\n\\nSepakbola\\n\\nLiga Inggris\\n\\nTottenham Vs Liverpool: Badan Wasit Ngaku Salah, Gol Luis Diaz Harusnya Sah\\n\\nYanu Arifin - \\n\\nSepakbola\\n\\nMinggu, 01 Okt 2023 06:00 WIB\\n\\nPGMOL atau Badan Wasit Profesional Inggris mengakui adanya kesalahan dalam laga Tottenham Hotspur vs Liverpool. Gol Luis Diaz, yang dianulir, harusnya sah!\\n\\nUsai laga Tottenham vs Liverpool, yang berakhir dengan kemenangan The Lilywhites 2-1 di Tottenham Hotspur Stadium, London, Sabtu (30/9/2023), PGMOL langsung merilis pernyataan. Mereka mengakui kesalahan terjadi saat VAR menganulir gol Luis Diaz.\\n\\n\"PGMOL mengakui telah terjadi human error yang signifikan pada babak pertama pertandingan Tottenham Hotspur vs Liverpool. PGMOL akan melakukan tinjauan penuh,\" tulis pernyataan PGMOL, dilansir Sky Sports.\\n\\nADVERTISEMENT\\n\\nSCROLL TO CONTINUE WITH CONTENT\\n\\n\"Gol Luis Diaz dianulir oleh ofisial di lapangan karena offside. Ini adalah kesalahan faktual yang jelas dan nyata, dan seharusnya menghasilkan gol lewat VAR, namun VAR gagal dalam melakukan intervensinya.\"\\n\\n\"PGMOL akan melakukan peninjauan penuh terhadap situasi yang menyebabkan kesalahan tersebut. PGMOL akan mengontak Liverpool setelah pertandingan untuk mengakui kesalahan tersebut,\" jelas pernyataan PGMOL.\\n\\nBaca Juga: Kontroversi Spurs vs Liverpool Gol Luis Diaz Seharusnya Sah?\\n\\nDi laga Tottenham vs Liverpool, gol Luis Diaz di menit ke-34 dianulir karena dianggap offside. Wasit VAR, Darren England, kemudian mengeceknya, dan rupanya membenarkan keputusan tersebut.\\n\\nYang menjadi kontroversi, VAR cukup cepat mengambil keputusan. Selain itu, garis offside-nya tidak ditampilkan dalam tayangan ulang, yang membuat banyak pihak bertanya-tanya.\\n\\nHal itu bahkan dikoreksi oleh beIN Sport. Saluran TV itu membuat garis sejajar soal pergerakan Diaz, dan hasilnya terlihat onside. Dalam banyak tangkapan layar soal momen tersebut, Luis Diaz juga terlihat onside.\\n\\nGol Luis Diaz yang dianulir itu cukup memengaruhi hasil akhir pertandingan. Sebab, Liverpool jadi kalah 1-2 dari Tottenham Hotspur di pekan ke-7 Liga Inggris.\\n\\nBaca juga:  Tottenham Vs Liverpool: Drama! Spurs Kalahkan 9 Pemain Si Merah\\n\\nTiga Tantangan Penerapan VAR di Liga 1\"\\n\\n[Gambas:Video 20detik]\\n\\ntottenham vs liverpool\\n\\ntottenham hotspur vs liverpool\\n\\nluis diaz\\n\\nvar\\n\\nvideo assistant referee\\n\\npgmol\\n\\nwasit liga inggris\\n\\npremier league\\n\\npremier league 2023/2024\\n\\nliga inggris 2023/2024\\n\\nliga inggris\\n\\nBerita Terkait\\n\\nBadan Wasit Akui Kesalahan, Klopp: Enggak Ngaruh buat Liverpool\\n\\nKompak! Catatan Unik di Balik MU dan Man City yang Kalah Bareng\\n\\nMan City Dihukum Hwang Hee-chan, \\'Korean Guy\\' Milik Wolves\\n\\nMU Dipermalukan Palace, Ten Hag Ungkap Sebabnya\\n\\nLiverpool Menang Bikin Melesat ke Puncak Klasemen, Netizen: Sabtu Indah\\n\\nUNESA Buat Akademi Sepak Bola, Kolaborasi dengan Klub Liga Inggris\\n\\nPenyedia Streaming Ilegal Liga Inggris Dipenjara 30 Tahun\\n\\nManchester City Juara Liga yang Trending Tetap Chelsea, Karena Kalah\\n\\nBerita detikcom Lainnya\\n\\ndetikNews\\n\\nTeka-teki Siapa Coba Musnahkan Bukti Saat KPK Geledah Kementan\\n\\ndetikHot\\n\\nPenampilan Lisa BLACKPINK di Crazy Horse Jadi Sorotan\\n\\ndetikInet\\n\\nBill Gates Sebut Tanam Pohon Tak Berguna, Bos Teknologi Tersinggung\\n\\nSepakbola\\n\\nTottenham Vs Liverpool: Badan Wasit Ngaku Salah, Gol Luis Diaz Harusnya Sah\\n\\ndetikOto\\n\\nBahaya Pasang Stiker Happy Family di Mobil, Ini Faktanya!\\n\\ndetikFinance\\n\\nMomen Mentan di Spanyol Saat Rumah Dinas & Kantor Digeledah KPK\\n\\nWolipop\\n\\nBos Louis Vuitton Diselidiki Terkait Dugaan Pencucian Uang\\n\\ndetikFood\\n\\nHamil Anak ke-5, Sheila Marcia Makin Sering Hangout di Kafe\\n\\nBerita Terpopuler\\n\\n#1\\n\\nTottenham Vs Liverpool: Badan Wasit Ngaku Salah, Gol Luis Diaz Harusnya Sah\\n\\n#2\\n\\nMU Dipermalukan Palace, Ten Hag Ungkap Sebabnya\\n\\n#3\\n\\nMan City Dihukum Hwang Hee-chan, \\'Korean Guy\\' Milik Wolves\\n\\n#4\\n\\nBadan Wasit Akui Kesalahan, Klopp: Enggak Ngaruh buat Liverpool\\n\\n#5\\n\\nKompak! Catatan Unik di Balik MU dan Man City yang Kalah Bareng\\n\\nLihat Selengkapnya\\n\\npart of \\n\\nConnect With Us\\n\\nCopyright @ 2023 detikcom. \\n\\nKategori\\n\\ndetikNews\\n\\ndetikEdukasi\\n\\ndetikFinance\\n\\ndetikInet\\n\\ndetikHot\\n\\ndetikSport\\n\\nSepakbola\\n\\ndetikOto\\n\\ndetikProperti\\n\\ndetikTravel\\n\\ndetikFood\\n\\ndetikHealth\\n\\nWolipop\\n\\ndetikX\\n\\n20Detik\\n\\ndetikFoto\\n\\ndetikHikmah\\n\\nLayanan\\n\\nberbuatbaik.id\\n\\nPasang Mata\\n\\nAdsmart\\n\\nForum\\n\\ndetikEvent\\n\\nTrans Snow World\\n\\nTrans Studio\\n\\nInformasi\\n\\nRedaksi\\n\\nPedoman Media Siber\\n\\nKarir\\n\\nKotak Pos\\n\\nMedia Partner\\n\\nInfo Iklan\\n\\nPrivacy Policy\\n\\nDisclaimer\\n\\nJaringan Media\\n\\nCNN Indonesia\\n\\nCNBC Indonesia\\n\\nHaibunda\\n\\nInsertlive\\n\\nBeautynesia\\n\\nFemale Daily\\n\\nCXO Media\\n\\nAdvertisement\\n\\nCLOSE\\n\\nBreaking News\\n\\nUpacara Hari Kesaktian Pancasila', metadata={'source': 'https://news.google.com/rss/articles/CBMiggFodHRwczovL3Nwb3J0LmRldGlrLmNvbS9zZXBha2JvbGEvbGlnYS1pbmdncmlzL2QtNjk1ODc3Ni90b3R0ZW5oYW0tdnMtbGl2ZXJwb29sLWJhZGFuLXdhc2l0LW5nYWt1LXNhbGFoLWdvbC1sdWlzLWRpYXotaGFydXNueWEtc2Fo0gGGAWh0dHBzOi8vc3BvcnQuZGV0aWsuY29tL3NlcGFrYm9sYS9saWdhLWluZ2dyaXMvZC02OTU4Nzc2L3RvdHRlbmhhbS12cy1saXZlcnBvb2wtYmFkYW4td2FzaXQtbmdha3Utc2FsYWgtZ29sLWx1aXMtZGlhei1oYXJ1c255YS1zYWgvYW1w?oc=5&hl=en-US&gl=US&ceid=US:en'}),\n",
              " Document(page_content='MU Vs Palace: Setan Merah Kalah!\\n\\n0 komentar\\n\\n\\n                BAGIKAN \\xa0\\n                \\n\\nTautan telah disalin\\n\\nMENU\\n\\ndetikcom\\n\\nTerpopuler\\n\\nKirim Tulisan\\n\\nLive TV\\n\\ndetikPemilu NEW\\n\\nKategori Berita\\n\\ndetikNews\\n\\ndetikFinance\\n\\ndetikInet\\n\\ndetikHot\\n\\ndetikSport\\n\\nSepakbola\\n\\ndetikOto\\n\\ndetikTravel\\n\\ndetikFood\\n\\ndetikHealth\\n\\nWolipop\\n\\ndetikX\\n\\n20Detik\\n\\ndetikFoto\\n\\ndetikEdu\\n\\ndetikHikmah\\n\\ndetikProperti\\n\\nDaerah\\n\\ndetikJateng\\n\\ndetikJatim\\n\\ndetikJabar\\n\\ndetikSulsel\\n\\ndetikSumut\\n\\ndetikBali\\n\\ndetikSumbagsel\\n\\ndetikJogja NEW\\n\\nLayanan\\n\\nPasang Mata\\n\\nAds Smart\\n\\nForum\\n\\ndetikEvent\\n\\nTrans Snow World\\n\\nTrans Studio\\n\\nberbuatbaik.id\\n\\nDetik Network\\n\\nCNN Indonesia\\n\\nCNBC Indonesia\\n\\nHai Bunda\\n\\nInsertLive\\n\\nBeautynesia\\n\\nFemale Daily\\n\\nCXO Media\\n\\nHome\\n\\nLiga Inggris\\n\\nLiga Italia\\n\\nLiga Spanyol\\n\\nLiga Jerman\\n\\nLiga Indonesia\\n\\nUEFA\\n\\nDunia\\n\\nIndeks\\n\\ndetikSport\\n\\nTerpopuler\\n\\nLive Score and Statistics\\n\\nJadwal\\n\\nKlasemen Liga\\n\\nFoto\\n\\nVideo\\n\\nInfografis\\n\\nMan Of The Match\\n\\nGila Bola\\n\\nLiga Inggris \\n                                                   Liga Italia\\n                                                   Liga Spanyol\\n                                                   Liga Jerman\\n                                                   Liga Indonesia\\n\\nMan City\\n\\nTottenham\\n\\nArsenal\\n\\nLiverpool\\n\\nAston Villa\\n\\nBrighton\\n\\nWest Ham\\n\\nNewcastle\\n\\nCrystal Palace\\n\\nMan Utd\\n\\nFulham\\n\\nNottm Forest\\n\\nWolves\\n\\nBrentford\\n\\nChelsea\\n\\nEverton\\n\\nLuton\\n\\nBournemouth\\n\\nBurnley\\n\\nSheff Utd\\n\\nSepakbola\\n\\nLiga Inggris\\n\\nMU Vs Palace: Setan Merah Kalah!\\n\\nRifqi Ardita Widianto - \\n\\nSepakbola\\n\\nSabtu, 30 Sep 2023 22:58 WIB\\n\\nManchester United menelan kekalahan saat menjamu Crystal Palace. Gol Joachim Andersen membungkam \\'Setan Merah\\' 0-1 di kandang sendiri.\\n\\nManchester United menjamu Crystal Palace di Old Trafford, Sabtu (30/9/2023) malam WIB, dalam lanjutan Liga Inggris. MU mendominasi bola sejak sepak mula, namun gagal memaksimalkan sejumlah peluang di babak pertama.\\n\\nJustru Palace mencuri keunggulan dari situasi bola mati. Sepakan keras Joachim Andersen tak kuasa dibendung Andre Onana.\\n\\nADVERTISEMENT\\n\\nSCROLL TO CONTINUE WITH CONTENT\\n\\nMU mencoba lebih mendesak tamunya pada babak kedua. Namun upaya mereka tak membuahkan hasil.\\n\\nManchester United pun menelan kekalahan keempat di Liga Inggris musim ini. Mereka tercecer di posisi 10 klasemen sementara dengan sembilan poin dari tujuh pertandingan.\\n\\nSementara Palace naik ke posisi sembilan dengan 11 poin.\\n\\nBaca juga:  MU Waspadai Pembalasan Palace\\n\\nJalannya Pertandingan\\n\\nManchester United langsung menguasai jalannya pertandingan selepas sepak mula. Tapi masih kesulitan menemukan celah di awal pertandingan.\\n\\nJustru Crystal Palace menebar ancaman pada menit ke-11. Berawal dari tendangan bebas, bola diarahkan ke kiri dan diteruskan menjadi umpan silang. Sundulan Marc Guehi melenceng tipis saja ke kanan gawang.\\n\\nMU langsung merespons semenit kemudian. Rasmus Hojlund menerima umpan terobosan dari Marcus Rashford dan sontekannya melewati kiper. Tapi Tyrick Mitchell menyapu bola di depan gawang.\\n\\nMU mendapatkan kans berikutnya pada menit ke-18. Cheick Doucoure kehilangan bola di tengah dan direbut Hojlund. Hojlund melepas sepakan dari luar kotak penalti namun melambung.\\n\\nGOL! Palace memimpin pada menit ke-25. Tendangan bebas Eberechi Eze dari kanan jatuh di kaki Joachim Andersen di kiri. Andersen melepaskan tembakan langsung yang melesak ke pojok kanan atas gawang.\\n\\nMU punya peluang menyamakan dua menit kemudian. Tendangan Casemiro menyambar umpan Diogo Dalot cuma meleset tipis ke kiri gawang.\\n\\nAncaman lain dari MU belum membuahkan hasil pada menit ke-39. Sepak pojok Bruno Fernandes disambar Casemiro di tiang dekat namun masih melenceng.\\n\\nMU mencoba mendesak Palace di sisa waktu babak pertama. Tapi tak ada gol lain di periode ini.\\n\\nBaca juga:  Rashford Mulai Padu dengan Hojlund\\n\\nMU coba meningkatkan intensitas serangan di babak kedua dan bergerak lebih aktif. Sepakan keras Fernandes pada menit ke-56 ke pojok kiri atas ditepis Sam Johnstone. Peluang lain dari Hojlund tak lama berselang juga kandas di tangan kiper.\\n\\nMU meminta penalti pada menit ke-59 setelah merasa Joel Ward melakukan hand ball. Tapi wasit dan VAR memutuskan laga dilanjutkan dan tak ada pelanggaran.\\n\\nPeluang buat Palace pada menit ke-63 setelah Lindelof kehilangan bola di pertahanan MU. Umpan tarik Jean-Philippe Mateta disambar Will Hughes dan ditepi saja oleh Andre Onana.\\n\\nSundulan Mason Mount menyambut umpan Dalot melesat ke atas gawang. Sementara tusukan Garnacho nyaris berujung gol bunuh diri, setelah umpan silangnya membentur dia pemain Palace dan berakhir tipis di samping gawang.\\n\\nPalace hampir mencetak gol kedua pada menit ke-75. Eberechi Eze memenangi bola dan memasuki sepertiga akhir. Ia memilih menyelesaikan sendiri dan sepakannya melebar, sementara Mateta berdiri bebas di sisi kanan.\\n\\nMU terus mendesak, tapi juga dibuat buntu oleh gigihnya pertahanan Palace. Makin kehabisan cara, makin kehabisan waktu.\\n\\nSepakan Garnacho di menit kedua masa injury time diblok saja oleh Guehi. VAR memastikan tak ada hand ball. Sampai laga usai, tak ada gol tercipta.\\n\\n[Gambas:Opta]\\n\\nBaca juga:  Kapan Antony Main Lagi, Ten Hag?\\n\\nSusunan pemain\\n\\nManchester United: Andre Onana; Diogo Dalot, Victor Lindelof (Donny van de Beek 87\\'), Raphael Varane (Harry Maguire 87\\'), Sofyan Amrabat; Casemiro, Mason Mount (Anthony Martial 77\\'); Facundo Pellistri (Alejandro Garnacho 61\\'), Bruno Fernandes, Marcus Rashford (Christian Eriksen 77\\'); Rasmus Hojlund\\n\\nCrystal Palace: Sam Johnstone; Joel Ward, Joachim Andersen, Marc Guehi, Tyrick Mitchell; Cheick Doucoure, Will Hughes; Jordan Ayew, Eberechi Eze (Richards 88\\'), Jeffrey Schlupp (Jairo Riedewald 78\\'); Jean-Philippe Mateta\\n\\nMU Kalah di Kandang, Setan Merah Dihajar Brighton 1-3\"\\n\\n[Gambas:Video 20detik]\\n\\nmanchester united vs crystal palace\\n\\nmanchester united\\n\\ncrystal palace\\n\\nliga inggris\\n\\nBerita Terkait\\n\\nBadan Wasit Akui Kesalahan, Klopp: Enggak Ngaruh buat Liverpool\\n\\nKompak! Catatan Unik di Balik MU dan Man City yang Kalah Bareng\\n\\nMan City Dihukum Hwang Hee-chan, \\'Korean Guy\\' Milik Wolves\\n\\nTottenham Vs Liverpool: Badan Wasit Ngaku Salah, Gol Luis Diaz Harusnya Sah\\n\\nMU Keok Lawan Bayern, Onana Bikin Murka Netizen Setan Merah\\n\\nMalta, Negara Kecil yang Pasang Promosi di Manchester United\\n\\nLiverpool Menang Bikin Melesat ke Puncak Klasemen, Netizen: Sabtu Indah\\n\\nBaru Gabung MU, Reguilon Bikin Dele Alli Didenda Gegara Parkir Mobil Sembarangan\\n\\nBerita detikcom Lainnya\\n\\ndetikNews\\n\\nTeka-teki Siapa Coba Musnahkan Bukti Saat KPK Geledah Kementan\\n\\ndetikHot\\n\\nPenampilan Lisa BLACKPINK di Crazy Horse Jadi Sorotan\\n\\ndetikInet\\n\\nBill Gates Sebut Tanam Pohon Tak Berguna, Bos Teknologi Tersinggung\\n\\nSepakbola\\n\\nTottenham Vs Liverpool: Badan Wasit Ngaku Salah, Gol Luis Diaz Harusnya Sah\\n\\ndetikOto\\n\\nBahaya Pasang Stiker Happy Family di Mobil, Ini Faktanya!\\n\\ndetikFinance\\n\\nMomen Mentan di Spanyol Saat Rumah Dinas & Kantor Digeledah KPK\\n\\nWolipop\\n\\nBos Louis Vuitton Diselidiki Terkait Dugaan Pencucian Uang\\n\\ndetikFood\\n\\nHamil Anak ke-5, Sheila Marcia Makin Sering Hangout di Kafe\\n\\nBerita Terpopuler\\n\\n#1\\n\\nTottenham Vs Liverpool: Badan Wasit Ngaku Salah, Gol Luis Diaz Harusnya Sah\\n\\n#2\\n\\nMU Dipermalukan Palace, Ten Hag Ungkap Sebabnya\\n\\n#3\\n\\nMan City Dihukum Hwang Hee-chan, \\'Korean Guy\\' Milik Wolves\\n\\n#4\\n\\nBadan Wasit Akui Kesalahan, Klopp: Enggak Ngaruh buat Liverpool\\n\\n#5\\n\\nKompak! Catatan Unik di Balik MU dan Man City yang Kalah Bareng\\n\\nLihat Selengkapnya\\n\\npart of \\n\\nConnect With Us\\n\\nCopyright @ 2023 detikcom. \\n\\nKategori\\n\\ndetikNews\\n\\ndetikEdukasi\\n\\ndetikFinance\\n\\ndetikInet\\n\\ndetikHot\\n\\ndetikSport\\n\\nSepakbola\\n\\ndetikOto\\n\\ndetikProperti\\n\\ndetikTravel\\n\\ndetikFood\\n\\ndetikHealth\\n\\nWolipop\\n\\ndetikX\\n\\n20Detik\\n\\ndetikFoto\\n\\ndetikHikmah\\n\\nLayanan\\n\\nberbuatbaik.id\\n\\nPasang Mata\\n\\nAdsmart\\n\\nForum\\n\\ndetikEvent\\n\\nTrans Snow World\\n\\nTrans Studio\\n\\nInformasi\\n\\nRedaksi\\n\\nPedoman Media Siber\\n\\nKarir\\n\\nKotak Pos\\n\\nMedia Partner\\n\\nInfo Iklan\\n\\nPrivacy Policy\\n\\nDisclaimer\\n\\nJaringan Media\\n\\nCNN Indonesia\\n\\nCNBC Indonesia\\n\\nHaibunda\\n\\nInsertlive\\n\\nBeautynesia\\n\\nFemale Daily\\n\\nCXO Media\\n\\nAdvertisement\\n\\nCLOSE\\n\\nBreaking News\\n\\nUpacara Hari Kesaktian Pancasila', metadata={'source': 'https://news.google.com/rss/articles/CBMiV2h0dHBzOi8vc3BvcnQuZGV0aWsuY29tL3NlcGFrYm9sYS9saWdhLWluZ2dyaXMvZC02OTU4NjY3L211LXZzLXBhbGFjZS1zZXRhbi1tZXJhaC1rYWxhaNIBW2h0dHBzOi8vc3BvcnQuZGV0aWsuY29tL3NlcGFrYm9sYS9saWdhLWluZ2dyaXMvZC02OTU4NjY3L211LXZzLXBhbGFjZS1zZXRhbi1tZXJhaC1rYWxhaC9hbXA?oc=5&hl=en-US&gl=US&ceid=US:en'})]"
            ]
          },
          "metadata": {},
          "execution_count": 15
        }
      ]
    },
    {
      "cell_type": "markdown",
      "source": [
        "### Summarize News with Vertex PALM API\n",
        "\n",
        "The next step is calling `text-bison@001` to generate the news summary. We need to supply prompt to tell the model on how to summarize the text.\n",
        "\n",
        "\n",
        "**Prompting**\n",
        "\n",
        "Correct prompting is essential for getting accurate results from a LLM. Supply `prompt_template`  with prompt text to tell the model to generate news summary, using the following steps:\n",
        "  * summary consists of maximum 100 words\n",
        "  * If the text cannot be found or error, return: \"Content empty\"\n",
        "  * Use only materials from the text supplied\n",
        "  * Create summary in Bahasa Indonesia\n",
        "\n"
      ],
      "metadata": {
        "id": "-Re7KBsUOiX1"
      }
    },
    {
      "cell_type": "code",
      "source": [
        "#prompting to perform news summary\n",
        "prompt_template = \"\"\"Generate summary for the following text, using the following steps:\n",
        "                     1. summary consists of maximum 100 words\n",
        "                     2. If the text cannot be found or error, return: \"Content empty\"\n",
        "                     3. Use only materials from the text supplied\n",
        "                     3. Create summary in Bahasa Indonesia\n",
        "\n",
        "                    \"{text}\"\n",
        "                    SUMMARY:\"\"\"\n",
        "\n",
        "prompt = PromptTemplate.from_template(prompt_template)\n",
        "\n",
        "#declare LLM model\n",
        "llm = VertexAI(temperature=0.1,\n",
        "               model='text-bison@001',\n",
        "               top_k=40,\n",
        "               top_p=0.8,\n",
        "               max_output_token=512)"
      ],
      "metadata": {
        "id": "8FNzSR9f-y3C"
      },
      "execution_count": 16,
      "outputs": []
    },
    {
      "cell_type": "markdown",
      "source": [
        "Wrap the summarization process inside a function to loop collections of news urls. The generate_summary function perform the following:\n",
        "- Retrieve news content from each urls\n",
        "- Generate summary for each news contents\n",
        "- Print the output"
      ],
      "metadata": {
        "id": "P1gy6A9uTqOo"
      }
    },
    {
      "cell_type": "code",
      "source": [
        "# create function to generate news summary based on list of news urls\n",
        "# Load URL , get news content and summarize\n",
        "def generate_summary(docnews):\n",
        "    for item in docnews:\n",
        "        #extract news content\n",
        "        loader = UnstructuredURLLoader(urls=[item['url']])\n",
        "        data = loader.load()\n",
        "\n",
        "        #summarize using stuff for easy processing\n",
        "        chain = load_summarize_chain(llm,\n",
        "                                    chain_type=\"stuff\",\n",
        "                                    prompt=prompt)\n",
        "        summary = chain.run(data)\n",
        "\n",
        "        #show summary for each news headlines\n",
        "        print(item['title'])\n",
        "        print(item['publisher']['title'], item['published date'])\n",
        "        print(summary, '\\n')"
      ],
      "metadata": {
        "id": "u25A_j2I2Q74"
      },
      "execution_count": 17,
      "outputs": []
    },
    {
      "cell_type": "code",
      "source": [
        "#call the function and generate summary for news by keyword\n",
        "generate_summary(news_by_keyword)"
      ],
      "metadata": {
        "colab": {
          "base_uri": "https://localhost:8080/"
        },
        "id": "2cMSEdYZAyI2",
        "outputId": "47fc12cd-c0b3-4965-e4af-0d8504f29e23"
      },
      "execution_count": 18,
      "outputs": [
        {
          "output_type": "stream",
          "name": "stdout",
          "text": [
            "Tarif Kereta Cepat Jakarta-Kota Bandung Rp 350 Ribu, Mahal? - CNBC Indonesia\n",
            "CNBC Indonesia Sat, 30 Sep 2023 09:45:00 GMT\n",
            " Kereta Cepat Jakarta-Bandung akan diresmikan pada 2 Oktober 2023. Tarifnya diperkirakan sekitar Rp300.000-Rp350.000 untuk kelas ekonomi. Setelah uji coba gratis, tiket akan dikenakan biaya. Presiden Jokowi ingin harga tiket terjangkau dan bisa didiskon untuk menarik minat masyarakat. \n",
            "\n",
            "Siaran Pers: Kereta Cepat \"Whoosh\" Diharapkan Perkuat Capaian ... - Kemenparekraf\n",
            "Kemenparekraf Sat, 30 Sep 2023 05:53:06 GMT\n",
            " Kereta Cepat Jakarta-Bandung atau \"Whoosh\" akan resmi beroperasi mulai 2 Oktober 2023. Kereta cepat ini diharapkan dapat memperkuat capaian target wisatawan nusantara dan mancanegara di tahun 2023. \n",
            "\n",
            "Kemenparekraf dikatakan Dessy senantiasa mendorong pelaku industri agar mulai membuat paket-paket perjalanan wisata dengan memasukkan kereta cepat sebagai salah satu daya tarik ataupun transportasi pilihan. \n",
            "\n",
            "Kereta Cepat Jakarta-Bandung \"Whoosh\" terbagi dalam tiga kategori kelas. Yakni Rp350 ribu untuk first class, Rp300 ribu untuk _business \n",
            "\n",
            "Kereta Cepat Diharapkan Bantu Geliatkan Kunjungan Wisatawan ... - Republika Online\n",
            "Republika Online Sat, 30 Sep 2023 14:40:05 GMT\n",
            " Kereta cepat Jakarta-Bandung akan resmi beroperasi mulai 2 Oktober 2023. Kereta cepat ini diharapkan dapat memberi dampak pada peningkatan kualitas sektor pariwisata dan ekonomi kreatif di Tanah Air. \n",
            "Khususnya, aksesibilitas wisatawan menuju berbagai destinasi dan sentra ekonomi kreatif di Jawa Barat. \n",
            "Deputi Bidang Kebijakan Strategis Kemenparekraf, Dessy Ruhati meyakini kehadiran Whoosh dapat memperkuat capaian target wisatawan baik nusantara maupun mancanegara di tahun 2023 \n",
            "\n",
            "Stasiun Padalarang Siap Sambut Penumpang Kereta Cepat Jakarta ... - kompas.id\n",
            "kompas.id Sat, 30 Sep 2023 12:57:47 GMT\n",
            " Stasiun Padalarang siap menyambut penumpang kereta cepat Jakarta-Bandung. Stasiun ini akan menjadi simpul transportasi antara Whoosh dan kereta pengumpan menuju Stasiun Bandung. Fasilitas ini diharapkan bisa semakin memangkas waktu tempuh menuju Kota Bandung. \n",
            "\n",
            "20 Awak Redaksi Rakyat Merdeka Jajal Kereta Cepat Whoosh - RM.ID\n",
            "RM.ID Sun, 01 Oct 2023 00:40:00 GMT\n",
            " Kereta Cepat Jakarta-Bandung (KCJB) akan diresmikan Presiden Jokowi pada Senin (2/10/2023). Kereta yang diberi nama Whoosh itu, akan beroperasi secara komersial dengan rute Halim (Jakarta) menuju Tegalluar (Bandung). \n",
            "\n",
            "Redaksi Rakyat Merdeka yang berjumlah 20 orang, mendapat kesempatan menjajal kereta anyar itu. Kereta berwarna silver dengan aksen merah ini, berangkat dari Halim tepat pukul 14.00 WIB. \n",
            "\n",
            "Dengan kecepatan mencapai 350 km/jam, perjalanan Jakarta-Bandung ditemp \n",
            "\n"
          ]
        }
      ]
    },
    {
      "cell_type": "code",
      "source": [
        "#call the function and generate summary for news by topics\n",
        "generate_summary(news_by_topic)"
      ],
      "metadata": {
        "colab": {
          "base_uri": "https://localhost:8080/"
        },
        "id": "LUuQanOTA-Fm",
        "outputId": "7c7d3329-d24b-4a8f-b247-6a1e84b0a871"
      },
      "execution_count": 19,
      "outputs": [
        {
          "output_type": "stream",
          "name": "stdout",
          "text": [
            "Tottenham Vs Liverpool: Badan Wasit Ngaku Salah, Gol Luis Diaz Harusnya Sah - detikSport\n",
            "detikSport Sat, 30 Sep 2023 23:00:00 GMT\n",
            " Tottenham Hotspur vs Liverpool: Badan Wasit Profesional Inggris (PGMOL) mengakui adanya kesalahan dalam pertandingan tersebut. Gol Luis Diaz yang dianulir seharusnya sah. PGMOL akan melakukan tinjauan penuh atas insiden tersebut. \n",
            "\n",
            "MU Vs Palace: Setan Merah Kalah! - detikSport\n",
            "detikSport Sat, 30 Sep 2023 15:58:02 GMT\n",
            " Manchester United kalah 0-1 dari Crystal Palace di Old Trafford pada lanjutan Liga Inggris, Sabtu (30/9/2023) malam WIB. Gol tunggal kemenangan Palace dicetak oleh Joachim Andersen pada menit ke-25. MU gagal memanfaatkan sejumlah peluang dan kesulitan menembus pertahanan Palace yang disiplin. Kekalahan ini membuat MU tertahan di posisi 10 klasemen sementara dengan sembilan poin dari tujuh pertandingan. \n",
            "\n",
            "Rating Pemain Manchester City Versus Wolverhampton Wanderers: Erling Haaland Cuma Sekadar Kameo Dalam Kekalahan Pertama - Goal.com\n",
            "Goal.com Sat, 30 Sep 2023 19:35:00 GMT\n",
            " Manchester City menelan kekalahan pertama mereka di Liga Premier musim ini saat bertandang ke markas Wolverhampton Wanderers. Meskipun sempat unggul terlebih dahulu melalui gol Julian Alvarez, City harus mengakui keunggulan Wolves dengan skor 2-1. Hwang Hee-chan menjadi pahlawan kemenangan Wolves dengan mencetak gol kemenangan pada menit ke-64. \n",
            "\n",
            "Kata-kata Zohri Usai Gagal Raih Medali di Asian Games 2023 - CNN Indonesia\n",
            "CNN Indonesia Sat, 30 Sep 2023 17:55:36 GMT\n",
            " Sprinter Indonesia Lalu Muhammad Zohri meminta maaf setelah gagal meraih medali di nomor 100 meter putra Asian Games 2022. Zohri hanya mampu finis keenam pada final lari 100 meter putra Asian Games 2022 yang digelar di Stadion Hangzhou Olympics Sports Centre, Hangzhou, Sabtu (30/9). \n",
            "\n",
            "Hasil Salernitana vs Inter Milan: Skor 0-4 - Bola.net\n",
            "Bola.net Sat, 30 Sep 2023 20:37:00 GMT\n",
            " Inter Milan menang telak 4-0 atas Salernitana dalam lanjutan Serie A. Lautaro Martinez menjadi bintang kemenangan Nerazzurri dengan mencetak quattrick. \n",
            "\n"
          ]
        }
      ]
    },
    {
      "cell_type": "code",
      "source": [],
      "metadata": {
        "id": "Flcpa_NbWziZ"
      },
      "execution_count": null,
      "outputs": []
    }
  ]
}