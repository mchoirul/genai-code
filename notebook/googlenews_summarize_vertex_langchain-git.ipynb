{
  "nbformat": 4,
  "nbformat_minor": 0,
  "metadata": {
    "colab": {
      "provenance": [],
      "mount_file_id": "1abO3ygTAvn5_kI9M_YZLi5QGpTFJWsHC",
      "authorship_tag": "ABX9TyPpsuRauh9RbUk9ijxkIBKV",
      "include_colab_link": true
    },
    "kernelspec": {
      "name": "python3",
      "display_name": "Python 3"
    },
    "language_info": {
      "name": "python"
    }
  },
  "cells": [
    {
      "cell_type": "markdown",
      "metadata": {
        "id": "view-in-github",
        "colab_type": "text"
      },
      "source": [
        "<a href=\"https://colab.research.google.com/github/mchoirul/genai-code/blob/main/notebook/googlenews_summarize_vertex_langchain-git.ipynb\" target=\"_parent\"><img src=\"https://colab.research.google.com/assets/colab-badge.svg\" alt=\"Open In Colab\"/></a>"
      ]
    },
    {
      "cell_type": "markdown",
      "source": [
        "# Summarizing Google News Headlines Using VertexAI PALM API & Langchain\n",
        "\n",
        "In this tutorial, we will perform news summarization of news content gathered from Google News using the following components:\n",
        "\n",
        "- GNews API: Collect news titles & metadata from Google News\n",
        "- Langchain's UnstructuredURLLoader: Retrieve news content\n",
        "- Vertex PALM API: Generate news summary\n",
        "\n",
        "Vertex PALM API is a large language model (LLM) that can be used for a variety of tasks, including text summarization. In this tutorial, we will use the text-bison@001 model from PALM API to summarize news content.\n",
        "\n",
        "Reference and credit to the following resources:\n",
        "- https://github.com/ranahaani/GNews\n",
        "- https://alphasec.io/summarize-google-news-results-with-langchain-and-serper-api/\n",
        "\n",
        "## Objectives:\n",
        "- Learn how to use GNews API, Langchain's UnstructuredURLLoader, and Vertex PALM API to perform news summarization\n",
        "- Create a news summarization function that can be used to automate the process of generating news summaries\n",
        "- Gain a better understanding of the different steps involved in news summarization"
      ],
      "metadata": {
        "id": "lFOAJkMQ88UQ"
      }
    },
    {
      "cell_type": "markdown",
      "source": [
        "## Installation & Preparation"
      ],
      "metadata": {
        "id": "8h46m3ouKevL"
      }
    },
    {
      "cell_type": "code",
      "source": [
        "#install all required package\n",
        "!pip -q install langchain\n",
        "!pip install google-cloud-aiplatform\n",
        "!pip install gnews\n",
        "!pip install unstructured"
      ],
      "metadata": {
        "colab": {
          "base_uri": "https://localhost:8080/",
          "height": 1000
        },
        "id": "50lw3hHoJgKb",
        "outputId": "d10909f0-223b-432e-876f-7f00bd85e984"
      },
      "execution_count": 1,
      "outputs": [
        {
          "output_type": "stream",
          "name": "stdout",
          "text": [
            "\u001b[2K     \u001b[90m━━━━━━━━━━━━━━━━━━━━━━━━━━━━━━━━━━━━━━━━\u001b[0m \u001b[32m1.8/1.8 MB\u001b[0m \u001b[31m17.3 MB/s\u001b[0m eta \u001b[36m0:00:00\u001b[0m\n",
            "\u001b[2K     \u001b[90m━━━━━━━━━━━━━━━━━━━━━━━━━━━━━━━━━━━━━━━━\u001b[0m \u001b[32m49.4/49.4 kB\u001b[0m \u001b[31m4.8 MB/s\u001b[0m eta \u001b[36m0:00:00\u001b[0m\n",
            "\u001b[?25hCollecting google-cloud-aiplatform\n",
            "  Downloading google_cloud_aiplatform-1.33.1-py2.py3-none-any.whl (2.9 MB)\n",
            "\u001b[2K     \u001b[90m━━━━━━━━━━━━━━━━━━━━━━━━━━━━━━━━━━━━━━━━\u001b[0m \u001b[32m2.9/2.9 MB\u001b[0m \u001b[31m10.1 MB/s\u001b[0m eta \u001b[36m0:00:00\u001b[0m\n",
            "\u001b[?25hRequirement already satisfied: google-api-core[grpc]!=2.0.*,!=2.1.*,!=2.2.*,!=2.3.*,!=2.4.*,!=2.5.*,!=2.6.*,!=2.7.*,<3.0.0dev,>=1.32.0 in /usr/local/lib/python3.10/dist-packages (from google-cloud-aiplatform) (2.11.1)\n",
            "Requirement already satisfied: proto-plus<2.0.0dev,>=1.22.0 in /usr/local/lib/python3.10/dist-packages (from google-cloud-aiplatform) (1.22.3)\n",
            "Requirement already satisfied: protobuf!=3.20.0,!=3.20.1,!=4.21.0,!=4.21.1,!=4.21.2,!=4.21.3,!=4.21.4,!=4.21.5,<5.0.0dev,>=3.19.5 in /usr/local/lib/python3.10/dist-packages (from google-cloud-aiplatform) (3.20.3)\n",
            "Requirement already satisfied: packaging>=14.3 in /usr/local/lib/python3.10/dist-packages (from google-cloud-aiplatform) (23.1)\n",
            "Requirement already satisfied: google-cloud-storage<3.0.0dev,>=1.32.0 in /usr/local/lib/python3.10/dist-packages (from google-cloud-aiplatform) (2.8.0)\n",
            "Requirement already satisfied: google-cloud-bigquery<4.0.0dev,>=1.15.0 in /usr/local/lib/python3.10/dist-packages (from google-cloud-aiplatform) (3.10.0)\n",
            "Collecting google-cloud-resource-manager<3.0.0dev,>=1.3.3 (from google-cloud-aiplatform)\n",
            "  Downloading google_cloud_resource_manager-1.10.4-py2.py3-none-any.whl (320 kB)\n",
            "\u001b[2K     \u001b[90m━━━━━━━━━━━━━━━━━━━━━━━━━━━━━━━━━━━━━━━\u001b[0m \u001b[32m321.0/321.0 kB\u001b[0m \u001b[31m7.8 MB/s\u001b[0m eta \u001b[36m0:00:00\u001b[0m\n",
            "\u001b[?25hCollecting shapely<2.0.0 (from google-cloud-aiplatform)\n",
            "  Downloading Shapely-1.8.5.post1-cp310-cp310-manylinux_2_12_x86_64.manylinux2010_x86_64.whl (2.0 MB)\n",
            "\u001b[2K     \u001b[90m━━━━━━━━━━━━━━━━━━━━━━━━━━━━━━━━━━━━━━━━\u001b[0m \u001b[32m2.0/2.0 MB\u001b[0m \u001b[31m16.5 MB/s\u001b[0m eta \u001b[36m0:00:00\u001b[0m\n",
            "\u001b[?25hRequirement already satisfied: googleapis-common-protos<2.0.dev0,>=1.56.2 in /usr/local/lib/python3.10/dist-packages (from google-api-core[grpc]!=2.0.*,!=2.1.*,!=2.2.*,!=2.3.*,!=2.4.*,!=2.5.*,!=2.6.*,!=2.7.*,<3.0.0dev,>=1.32.0->google-cloud-aiplatform) (1.60.0)\n",
            "Requirement already satisfied: google-auth<3.0.dev0,>=2.14.1 in /usr/local/lib/python3.10/dist-packages (from google-api-core[grpc]!=2.0.*,!=2.1.*,!=2.2.*,!=2.3.*,!=2.4.*,!=2.5.*,!=2.6.*,!=2.7.*,<3.0.0dev,>=1.32.0->google-cloud-aiplatform) (2.17.3)\n",
            "Requirement already satisfied: requests<3.0.0.dev0,>=2.18.0 in /usr/local/lib/python3.10/dist-packages (from google-api-core[grpc]!=2.0.*,!=2.1.*,!=2.2.*,!=2.3.*,!=2.4.*,!=2.5.*,!=2.6.*,!=2.7.*,<3.0.0dev,>=1.32.0->google-cloud-aiplatform) (2.31.0)\n",
            "Requirement already satisfied: grpcio<2.0dev,>=1.33.2 in /usr/local/lib/python3.10/dist-packages (from google-api-core[grpc]!=2.0.*,!=2.1.*,!=2.2.*,!=2.3.*,!=2.4.*,!=2.5.*,!=2.6.*,!=2.7.*,<3.0.0dev,>=1.32.0->google-cloud-aiplatform) (1.57.0)\n",
            "Requirement already satisfied: grpcio-status<2.0.dev0,>=1.33.2 in /usr/local/lib/python3.10/dist-packages (from google-api-core[grpc]!=2.0.*,!=2.1.*,!=2.2.*,!=2.3.*,!=2.4.*,!=2.5.*,!=2.6.*,!=2.7.*,<3.0.0dev,>=1.32.0->google-cloud-aiplatform) (1.48.2)\n",
            "Requirement already satisfied: google-cloud-core<3.0.0dev,>=1.6.0 in /usr/local/lib/python3.10/dist-packages (from google-cloud-bigquery<4.0.0dev,>=1.15.0->google-cloud-aiplatform) (2.3.3)\n",
            "Requirement already satisfied: google-resumable-media<3.0dev,>=0.6.0 in /usr/local/lib/python3.10/dist-packages (from google-cloud-bigquery<4.0.0dev,>=1.15.0->google-cloud-aiplatform) (2.6.0)\n",
            "Requirement already satisfied: python-dateutil<3.0dev,>=2.7.2 in /usr/local/lib/python3.10/dist-packages (from google-cloud-bigquery<4.0.0dev,>=1.15.0->google-cloud-aiplatform) (2.8.2)\n",
            "Requirement already satisfied: grpc-google-iam-v1<1.0.0dev,>=0.12.4 in /usr/local/lib/python3.10/dist-packages (from google-cloud-resource-manager<3.0.0dev,>=1.3.3->google-cloud-aiplatform) (0.12.6)\n",
            "Requirement already satisfied: cachetools<6.0,>=2.0.0 in /usr/local/lib/python3.10/dist-packages (from google-auth<3.0.dev0,>=2.14.1->google-api-core[grpc]!=2.0.*,!=2.1.*,!=2.2.*,!=2.3.*,!=2.4.*,!=2.5.*,!=2.6.*,!=2.7.*,<3.0.0dev,>=1.32.0->google-cloud-aiplatform) (5.3.1)\n",
            "Requirement already satisfied: pyasn1-modules>=0.2.1 in /usr/local/lib/python3.10/dist-packages (from google-auth<3.0.dev0,>=2.14.1->google-api-core[grpc]!=2.0.*,!=2.1.*,!=2.2.*,!=2.3.*,!=2.4.*,!=2.5.*,!=2.6.*,!=2.7.*,<3.0.0dev,>=1.32.0->google-cloud-aiplatform) (0.3.0)\n",
            "Requirement already satisfied: six>=1.9.0 in /usr/local/lib/python3.10/dist-packages (from google-auth<3.0.dev0,>=2.14.1->google-api-core[grpc]!=2.0.*,!=2.1.*,!=2.2.*,!=2.3.*,!=2.4.*,!=2.5.*,!=2.6.*,!=2.7.*,<3.0.0dev,>=1.32.0->google-cloud-aiplatform) (1.16.0)\n",
            "Requirement already satisfied: rsa<5,>=3.1.4 in /usr/local/lib/python3.10/dist-packages (from google-auth<3.0.dev0,>=2.14.1->google-api-core[grpc]!=2.0.*,!=2.1.*,!=2.2.*,!=2.3.*,!=2.4.*,!=2.5.*,!=2.6.*,!=2.7.*,<3.0.0dev,>=1.32.0->google-cloud-aiplatform) (4.9)\n",
            "Requirement already satisfied: google-crc32c<2.0dev,>=1.0 in /usr/local/lib/python3.10/dist-packages (from google-resumable-media<3.0dev,>=0.6.0->google-cloud-bigquery<4.0.0dev,>=1.15.0->google-cloud-aiplatform) (1.5.0)\n",
            "Requirement already satisfied: charset-normalizer<4,>=2 in /usr/local/lib/python3.10/dist-packages (from requests<3.0.0.dev0,>=2.18.0->google-api-core[grpc]!=2.0.*,!=2.1.*,!=2.2.*,!=2.3.*,!=2.4.*,!=2.5.*,!=2.6.*,!=2.7.*,<3.0.0dev,>=1.32.0->google-cloud-aiplatform) (3.2.0)\n",
            "Requirement already satisfied: idna<4,>=2.5 in /usr/local/lib/python3.10/dist-packages (from requests<3.0.0.dev0,>=2.18.0->google-api-core[grpc]!=2.0.*,!=2.1.*,!=2.2.*,!=2.3.*,!=2.4.*,!=2.5.*,!=2.6.*,!=2.7.*,<3.0.0dev,>=1.32.0->google-cloud-aiplatform) (3.4)\n",
            "Requirement already satisfied: urllib3<3,>=1.21.1 in /usr/local/lib/python3.10/dist-packages (from requests<3.0.0.dev0,>=2.18.0->google-api-core[grpc]!=2.0.*,!=2.1.*,!=2.2.*,!=2.3.*,!=2.4.*,!=2.5.*,!=2.6.*,!=2.7.*,<3.0.0dev,>=1.32.0->google-cloud-aiplatform) (2.0.4)\n",
            "Requirement already satisfied: certifi>=2017.4.17 in /usr/local/lib/python3.10/dist-packages (from requests<3.0.0.dev0,>=2.18.0->google-api-core[grpc]!=2.0.*,!=2.1.*,!=2.2.*,!=2.3.*,!=2.4.*,!=2.5.*,!=2.6.*,!=2.7.*,<3.0.0dev,>=1.32.0->google-cloud-aiplatform) (2023.7.22)\n",
            "Requirement already satisfied: pyasn1<0.6.0,>=0.4.6 in /usr/local/lib/python3.10/dist-packages (from pyasn1-modules>=0.2.1->google-auth<3.0.dev0,>=2.14.1->google-api-core[grpc]!=2.0.*,!=2.1.*,!=2.2.*,!=2.3.*,!=2.4.*,!=2.5.*,!=2.6.*,!=2.7.*,<3.0.0dev,>=1.32.0->google-cloud-aiplatform) (0.5.0)\n",
            "Installing collected packages: shapely, google-cloud-resource-manager, google-cloud-aiplatform\n",
            "  Attempting uninstall: shapely\n",
            "    Found existing installation: shapely 2.0.1\n",
            "    Uninstalling shapely-2.0.1:\n",
            "      Successfully uninstalled shapely-2.0.1\n",
            "Successfully installed google-cloud-aiplatform-1.33.1 google-cloud-resource-manager-1.10.4 shapely-1.8.5.post1\n"
          ]
        },
        {
          "output_type": "display_data",
          "data": {
            "application/vnd.colab-display-data+json": {
              "pip_warning": {
                "packages": [
                  "google"
                ]
              }
            }
          },
          "metadata": {}
        },
        {
          "output_type": "stream",
          "name": "stdout",
          "text": [
            "Collecting gnews\n",
            "  Downloading gnews-0.3.1-py3-none-any.whl (16 kB)\n",
            "Collecting feedparser~=6.0.2 (from gnews)\n",
            "  Downloading feedparser-6.0.10-py3-none-any.whl (81 kB)\n",
            "\u001b[2K     \u001b[90m━━━━━━━━━━━━━━━━━━━━━━━━━━━━━━━━━━━━━━━━\u001b[0m \u001b[32m81.1/81.1 kB\u001b[0m \u001b[31m2.3 MB/s\u001b[0m eta \u001b[36m0:00:00\u001b[0m\n",
            "\u001b[?25hCollecting bs4~=0.0.1 (from gnews)\n",
            "  Downloading bs4-0.0.1.tar.gz (1.1 kB)\n",
            "  Preparing metadata (setup.py) ... \u001b[?25l\u001b[?25hdone\n",
            "Collecting beautifulsoup4~=4.9.3 (from gnews)\n",
            "  Downloading beautifulsoup4-4.9.3-py3-none-any.whl (115 kB)\n",
            "\u001b[2K     \u001b[90m━━━━━━━━━━━━━━━━━━━━━━━━━━━━━━━━━━━━━━━\u001b[0m \u001b[32m115.8/115.8 kB\u001b[0m \u001b[31m7.0 MB/s\u001b[0m eta \u001b[36m0:00:00\u001b[0m\n",
            "\u001b[?25hCollecting pymongo~=3.12.0 (from gnews)\n",
            "  Downloading pymongo-3.12.3-cp310-cp310-manylinux_2_17_x86_64.manylinux2014_x86_64.whl (517 kB)\n",
            "\u001b[2K     \u001b[90m━━━━━━━━━━━━━━━━━━━━━━━━━━━━━━━━━━━━━━━\u001b[0m \u001b[32m517.1/517.1 kB\u001b[0m \u001b[31m7.9 MB/s\u001b[0m eta \u001b[36m0:00:00\u001b[0m\n",
            "\u001b[?25hCollecting dnspython~=1.16.0 (from gnews)\n",
            "  Downloading dnspython-1.16.0-py2.py3-none-any.whl (188 kB)\n",
            "\u001b[2K     \u001b[90m━━━━━━━━━━━━━━━━━━━━━━━━━━━━━━━━━━━━━━\u001b[0m \u001b[32m188.4/188.4 kB\u001b[0m \u001b[31m10.0 MB/s\u001b[0m eta \u001b[36m0:00:00\u001b[0m\n",
            "\u001b[?25hCollecting python-dotenv~=0.19.0 (from gnews)\n",
            "  Downloading python_dotenv-0.19.2-py2.py3-none-any.whl (17 kB)\n",
            "Collecting requests==2.26.0 (from gnews)\n",
            "  Downloading requests-2.26.0-py2.py3-none-any.whl (62 kB)\n",
            "\u001b[2K     \u001b[90m━━━━━━━━━━━━━━━━━━━━━━━━━━━━━━━━━━━━━━━━\u001b[0m \u001b[32m62.3/62.3 kB\u001b[0m \u001b[31m6.0 MB/s\u001b[0m eta \u001b[36m0:00:00\u001b[0m\n",
            "\u001b[?25hCollecting urllib3<1.27,>=1.21.1 (from requests==2.26.0->gnews)\n",
            "  Downloading urllib3-1.26.16-py2.py3-none-any.whl (143 kB)\n",
            "\u001b[2K     \u001b[90m━━━━━━━━━━━━━━━━━━━━━━━━━━━━━━━━━━━━━━\u001b[0m \u001b[32m143.1/143.1 kB\u001b[0m \u001b[31m10.5 MB/s\u001b[0m eta \u001b[36m0:00:00\u001b[0m\n",
            "\u001b[?25hRequirement already satisfied: certifi>=2017.4.17 in /usr/local/lib/python3.10/dist-packages (from requests==2.26.0->gnews) (2023.7.22)\n",
            "Collecting charset-normalizer~=2.0.0 (from requests==2.26.0->gnews)\n",
            "  Downloading charset_normalizer-2.0.12-py3-none-any.whl (39 kB)\n",
            "Requirement already satisfied: idna<4,>=2.5 in /usr/local/lib/python3.10/dist-packages (from requests==2.26.0->gnews) (3.4)\n",
            "Requirement already satisfied: soupsieve>1.2 in /usr/local/lib/python3.10/dist-packages (from beautifulsoup4~=4.9.3->gnews) (2.5)\n",
            "Collecting sgmllib3k (from feedparser~=6.0.2->gnews)\n",
            "  Downloading sgmllib3k-1.0.0.tar.gz (5.8 kB)\n",
            "  Preparing metadata (setup.py) ... \u001b[?25l\u001b[?25hdone\n",
            "Building wheels for collected packages: bs4, sgmllib3k\n",
            "  Building wheel for bs4 (setup.py) ... \u001b[?25l\u001b[?25hdone\n",
            "  Created wheel for bs4: filename=bs4-0.0.1-py3-none-any.whl size=1256 sha256=093fc997dd27baeb6012297c05a4fe21d06cdb5547a622a848ce802076e48522\n",
            "  Stored in directory: /root/.cache/pip/wheels/25/42/45/b773edc52acb16cd2db4cf1a0b47117e2f69bb4eb300ed0e70\n",
            "  Building wheel for sgmllib3k (setup.py) ... \u001b[?25l\u001b[?25hdone\n",
            "  Created wheel for sgmllib3k: filename=sgmllib3k-1.0.0-py3-none-any.whl size=6047 sha256=60bd6a1e28cd3ec2b593a2a6eb21213d9e38b97f30e8a9b26d7de3e760f2e23b\n",
            "  Stored in directory: /root/.cache/pip/wheels/f0/69/93/a47e9d621be168e9e33c7ce60524393c0b92ae83cf6c6e89c5\n",
            "Successfully built bs4 sgmllib3k\n",
            "Installing collected packages: sgmllib3k, urllib3, python-dotenv, pymongo, feedparser, dnspython, charset-normalizer, beautifulsoup4, requests, bs4, gnews\n",
            "  Attempting uninstall: urllib3\n",
            "    Found existing installation: urllib3 2.0.4\n",
            "    Uninstalling urllib3-2.0.4:\n",
            "      Successfully uninstalled urllib3-2.0.4\n",
            "  Attempting uninstall: charset-normalizer\n",
            "    Found existing installation: charset-normalizer 3.2.0\n",
            "    Uninstalling charset-normalizer-3.2.0:\n",
            "      Successfully uninstalled charset-normalizer-3.2.0\n",
            "  Attempting uninstall: beautifulsoup4\n",
            "    Found existing installation: beautifulsoup4 4.11.2\n",
            "    Uninstalling beautifulsoup4-4.11.2:\n",
            "      Successfully uninstalled beautifulsoup4-4.11.2\n",
            "  Attempting uninstall: requests\n",
            "    Found existing installation: requests 2.31.0\n",
            "    Uninstalling requests-2.31.0:\n",
            "      Successfully uninstalled requests-2.31.0\n",
            "\u001b[31mERROR: pip's dependency resolver does not currently take into account all the packages that are installed. This behaviour is the source of the following dependency conflicts.\n",
            "google-colab 1.0.0 requires requests==2.31.0, but you have requests 2.26.0 which is incompatible.\n",
            "tweepy 4.13.0 requires requests<3,>=2.27.0, but you have requests 2.26.0 which is incompatible.\n",
            "yfinance 0.2.28 requires beautifulsoup4>=4.11.1, but you have beautifulsoup4 4.9.3 which is incompatible.\n",
            "yfinance 0.2.28 requires requests>=2.31, but you have requests 2.26.0 which is incompatible.\u001b[0m\u001b[31m\n",
            "\u001b[0mSuccessfully installed beautifulsoup4-4.9.3 bs4-0.0.1 charset-normalizer-2.0.12 dnspython-1.16.0 feedparser-6.0.10 gnews-0.3.1 pymongo-3.12.3 python-dotenv-0.19.2 requests-2.26.0 sgmllib3k-1.0.0 urllib3-1.26.16\n",
            "Collecting unstructured\n",
            "  Downloading unstructured-0.10.18-py3-none-any.whl (1.5 MB)\n",
            "\u001b[2K     \u001b[90m━━━━━━━━━━━━━━━━━━━━━━━━━━━━━━━━━━━━━━━━\u001b[0m \u001b[32m1.5/1.5 MB\u001b[0m \u001b[31m9.1 MB/s\u001b[0m eta \u001b[36m0:00:00\u001b[0m\n",
            "\u001b[?25hRequirement already satisfied: chardet in /usr/local/lib/python3.10/dist-packages (from unstructured) (5.2.0)\n",
            "Collecting filetype (from unstructured)\n",
            "  Downloading filetype-1.2.0-py2.py3-none-any.whl (19 kB)\n",
            "Collecting python-magic (from unstructured)\n",
            "  Downloading python_magic-0.4.27-py2.py3-none-any.whl (13 kB)\n",
            "Requirement already satisfied: lxml in /usr/local/lib/python3.10/dist-packages (from unstructured) (4.9.3)\n",
            "Requirement already satisfied: nltk in /usr/local/lib/python3.10/dist-packages (from unstructured) (3.8.1)\n",
            "Requirement already satisfied: tabulate in /usr/local/lib/python3.10/dist-packages (from unstructured) (0.9.0)\n",
            "Requirement already satisfied: requests in /usr/local/lib/python3.10/dist-packages (from unstructured) (2.26.0)\n",
            "Requirement already satisfied: beautifulsoup4 in /usr/local/lib/python3.10/dist-packages (from unstructured) (4.9.3)\n",
            "Collecting emoji (from unstructured)\n",
            "  Downloading emoji-2.8.0-py2.py3-none-any.whl (358 kB)\n",
            "\u001b[2K     \u001b[90m━━━━━━━━━━━━━━━━━━━━━━━━━━━━━━━━━━━━━━\u001b[0m \u001b[32m358.9/358.9 kB\u001b[0m \u001b[31m12.9 MB/s\u001b[0m eta \u001b[36m0:00:00\u001b[0m\n",
            "\u001b[?25hRequirement already satisfied: dataclasses-json in /usr/local/lib/python3.10/dist-packages (from unstructured) (0.6.1)\n",
            "Collecting python-iso639 (from unstructured)\n",
            "  Downloading python_iso639-2023.6.15-py3-none-any.whl (275 kB)\n",
            "\u001b[2K     \u001b[90m━━━━━━━━━━━━━━━━━━━━━━━━━━━━━━━━━━━━━━\u001b[0m \u001b[32m275.1/275.1 kB\u001b[0m \u001b[31m12.2 MB/s\u001b[0m eta \u001b[36m0:00:00\u001b[0m\n",
            "\u001b[?25hCollecting langdetect (from unstructured)\n",
            "  Downloading langdetect-1.0.9.tar.gz (981 kB)\n",
            "\u001b[2K     \u001b[90m━━━━━━━━━━━━━━━━━━━━━━━━━━━━━━━━━━━━━━\u001b[0m \u001b[32m981.5/981.5 kB\u001b[0m \u001b[31m17.0 MB/s\u001b[0m eta \u001b[36m0:00:00\u001b[0m\n",
            "\u001b[?25h  Preparing metadata (setup.py) ... \u001b[?25l\u001b[?25hdone\n",
            "Requirement already satisfied: numpy in /usr/local/lib/python3.10/dist-packages (from unstructured) (1.23.5)\n",
            "Requirement already satisfied: soupsieve>1.2 in /usr/local/lib/python3.10/dist-packages (from beautifulsoup4->unstructured) (2.5)\n",
            "Requirement already satisfied: marshmallow<4.0.0,>=3.18.0 in /usr/local/lib/python3.10/dist-packages (from dataclasses-json->unstructured) (3.20.1)\n",
            "Requirement already satisfied: typing-inspect<1,>=0.4.0 in /usr/local/lib/python3.10/dist-packages (from dataclasses-json->unstructured) (0.9.0)\n",
            "Requirement already satisfied: six in /usr/local/lib/python3.10/dist-packages (from langdetect->unstructured) (1.16.0)\n",
            "Requirement already satisfied: click in /usr/local/lib/python3.10/dist-packages (from nltk->unstructured) (8.1.7)\n",
            "Requirement already satisfied: joblib in /usr/local/lib/python3.10/dist-packages (from nltk->unstructured) (1.3.2)\n",
            "Requirement already satisfied: regex>=2021.8.3 in /usr/local/lib/python3.10/dist-packages (from nltk->unstructured) (2023.6.3)\n",
            "Requirement already satisfied: tqdm in /usr/local/lib/python3.10/dist-packages (from nltk->unstructured) (4.66.1)\n",
            "Requirement already satisfied: urllib3<1.27,>=1.21.1 in /usr/local/lib/python3.10/dist-packages (from requests->unstructured) (1.26.16)\n",
            "Requirement already satisfied: certifi>=2017.4.17 in /usr/local/lib/python3.10/dist-packages (from requests->unstructured) (2023.7.22)\n",
            "Requirement already satisfied: charset-normalizer~=2.0.0 in /usr/local/lib/python3.10/dist-packages (from requests->unstructured) (2.0.12)\n",
            "Requirement already satisfied: idna<4,>=2.5 in /usr/local/lib/python3.10/dist-packages (from requests->unstructured) (3.4)\n",
            "Requirement already satisfied: packaging>=17.0 in /usr/local/lib/python3.10/dist-packages (from marshmallow<4.0.0,>=3.18.0->dataclasses-json->unstructured) (23.1)\n",
            "Requirement already satisfied: mypy-extensions>=0.3.0 in /usr/local/lib/python3.10/dist-packages (from typing-inspect<1,>=0.4.0->dataclasses-json->unstructured) (1.0.0)\n",
            "Requirement already satisfied: typing-extensions>=3.7.4 in /usr/local/lib/python3.10/dist-packages (from typing-inspect<1,>=0.4.0->dataclasses-json->unstructured) (4.5.0)\n",
            "Building wheels for collected packages: langdetect\n",
            "  Building wheel for langdetect (setup.py) ... \u001b[?25l\u001b[?25hdone\n",
            "  Created wheel for langdetect: filename=langdetect-1.0.9-py3-none-any.whl size=993224 sha256=4943c65ca38017c56f550c9bd8c1e4cf4f6969808a852f12de45e5787ab2f3b4\n",
            "  Stored in directory: /root/.cache/pip/wheels/95/03/7d/59ea870c70ce4e5a370638b5462a7711ab78fba2f655d05106\n",
            "Successfully built langdetect\n",
            "Installing collected packages: filetype, python-magic, python-iso639, langdetect, emoji, unstructured\n",
            "Successfully installed emoji-2.8.0 filetype-1.2.0 langdetect-1.0.9 python-iso639-2023.6.15 python-magic-0.4.27 unstructured-0.10.18\n"
          ]
        }
      ]
    },
    {
      "cell_type": "code",
      "source": [
        "# restart kernel after installs so that your environment can access the new packages\n",
        "import IPython\n",
        "\n",
        "app = IPython.Application.instance()\n",
        "app.kernel.do_shutdown(True)"
      ],
      "metadata": {
        "colab": {
          "base_uri": "https://localhost:8080/"
        },
        "id": "11c721ZDoqYD",
        "outputId": "31a59764-521c-4619-b9af-f6f4185ea37b"
      },
      "execution_count": 2,
      "outputs": [
        {
          "output_type": "execute_result",
          "data": {
            "text/plain": [
              "{'status': 'ok', 'restart': True}"
            ]
          },
          "metadata": {},
          "execution_count": 2
        }
      ]
    },
    {
      "cell_type": "code",
      "source": [
        "# import required packages\n",
        "from langchain.llms import VertexAI\n",
        "from langchain.chains.summarize import load_summarize_chain\n",
        "from langchain.prompts import PromptTemplate\n",
        "from langchain.document_loaders import UnstructuredURLLoader\n"
      ],
      "metadata": {
        "id": "RJYjw061IVML"
      },
      "execution_count": 2,
      "outputs": []
    },
    {
      "cell_type": "code",
      "source": [
        "# authenticate to google cloud account\n",
        "from google.colab import auth as google_auth\n",
        "google_auth.authenticate_user()"
      ],
      "metadata": {
        "id": "jKhQPmtAA4gt"
      },
      "execution_count": 3,
      "outputs": []
    },
    {
      "cell_type": "code",
      "source": [
        "#google cloud project name\n",
        "#replace with your project name\n",
        "\n",
        "import vertexai\n",
        "\n",
        "PROJECT_ID = \"genai-llm01\"  # @param {type:\"string\"}\n",
        "vertexai.init(project=PROJECT_ID, location=\"us-central1\")"
      ],
      "metadata": {
        "id": "dgJ7YVmGA03r"
      },
      "execution_count": 5,
      "outputs": []
    },
    {
      "cell_type": "markdown",
      "source": [
        "## Calling GNews API to Get News Metadata\n",
        "Limit news period using the following time operators:\n",
        " - h = hours (eg: 12h)\n",
        " - d = days (eg: 7d)\n",
        " - m = months (eg: 6m)\n",
        " - y = years (eg: 1y)\n",
        "\n",
        "Example:\n",
        "\n",
        "`google_news.period = '3d'  # News from last 3 days `"
      ],
      "metadata": {
        "id": "kaq1BbI2KuYK"
      }
    },
    {
      "cell_type": "code",
      "source": [
        "from gnews import GNews\n",
        "\n",
        "google_news = GNews()\n",
        "google_news.period = '1d'  # News from last 1 day\n",
        "google_news.max_results = 5  # number of responses across a keyword\n",
        "google_news.country = 'ID'  # News from a specific country = Indonesia\n",
        "google_news.language = 'id'  # News in a specific language = Bahasa Indonesia\n",
        "google_news.exclude_websites = ['yahoo.com', 'cnn.com', 'msn.con']  # Exclude news from specific website i.e Yahoo.com and CNN.com\n",
        "\n",
        "#use date range if required\n",
        "#google_news.start_date = (2023, 1, 1) # Search from 1st Jan 2023\n",
        "#google_news.end_date = (2023, 4, 1) # Search until 1st April 2023\n",
        "\n",
        "#get by keyword\n",
        "news_by_keyword = google_news.get_news('kaesang')"
      ],
      "metadata": {
        "id": "3iq1o4rqpdMF"
      },
      "execution_count": 6,
      "outputs": []
    },
    {
      "cell_type": "code",
      "source": [
        "#check collected news metadata\n",
        "news_by_keyword"
      ],
      "metadata": {
        "colab": {
          "base_uri": "https://localhost:8080/"
        },
        "id": "kBHnKvXxp3ZA",
        "outputId": "ced1d578-489f-4462-c518-5ab9fdf13cba"
      },
      "execution_count": 7,
      "outputs": [
        {
          "output_type": "execute_result",
          "data": {
            "text/plain": [
              "[{'title': 'Kaesang Jadi Ketum PSI, Pengamat: Jokowi Kirim Pesan Ancaman ... - Republika Online',\n",
              "  'description': 'Kaesang Jadi Ketum PSI, Pengamat: Jokowi Kirim Pesan Ancaman ...  Republika Online',\n",
              "  'published date': 'Fri, 29 Sep 2023 13:50:24 GMT',\n",
              "  'url': 'https://news.google.com/rss/articles/CBMidGh0dHBzOi8vbmV3cy5yZXB1Ymxpa2EuY28uaWQvYmVyaXRhL3MxcjJnMDQ4NC9rYWVzYW5nLWphZGkta2V0dW0tcHNpLXBlbmdhbWF0LWpva293aS1raXJpbS1wZXNhbi1hbmNhbWFuLWtlLW1lZ2F3YXRp0gEA?oc=5&hl=en-US&gl=US&ceid=US:en',\n",
              "  'publisher': {'href': 'https://news.republika.co.id',\n",
              "   'title': 'Republika Online'}},\n",
              " {'title': 'PSI Sambut Baik Jika Jokowi Bergabung Jadi Kader Susul Kaesang - CNN Indonesia',\n",
              "  'description': 'PSI Sambut Baik Jika Jokowi Bergabung Jadi Kader Susul Kaesang  CNN Indonesia',\n",
              "  'published date': 'Fri, 29 Sep 2023 20:16:00 GMT',\n",
              "  'url': 'https://news.google.com/rss/articles/CBMifmh0dHBzOi8vd3d3LmNubmluZG9uZXNpYS5jb20vbmFzaW9uYWwvMjAyMzA5MjkxMTI3MjEtMzItMTAwNTA3MC9wc2ktc2FtYnV0LWJhaWstamlrYS1qb2tvd2ktYmVyZ2FidW5nLWphZGkta2FkZXItc3VzdWwta2Flc2FuZ9IBAA?oc=5&hl=en-US&gl=US&ceid=US:en',\n",
              "  'publisher': {'href': 'https://www.cnnindonesia.com',\n",
              "   'title': 'CNN Indonesia'}},\n",
              " {'title': 'Kejutan 60 Jam dari \"Super\" Kaesang - kompas.id',\n",
              "  'description': 'Kejutan 60 Jam dari \"Super\" Kaesang  kompas.id',\n",
              "  'published date': 'Sat, 30 Sep 2023 02:15:17 GMT',\n",
              "  'url': 'https://news.google.com/rss/articles/CBMiTmh0dHBzOi8vd3d3LmtvbXBhcy5pZC9iYWNhL3BvbGh1ay8yMDIzLzA5LzI5L2tlanV0YW4tNjAtamFtLWRhcmktc3VwZXIta2Flc2FuZ9IBAA?oc=5&hl=en-US&gl=US&ceid=US:en',\n",
              "  'publisher': {'href': 'https://www.kompas.id', 'title': 'kompas.id'}},\n",
              " {'title': 'Kaesang Pastikan PSI Terbuka, Bakal Datang ke Hambalang dan Teuku Umar - detikNews',\n",
              "  'description': 'Kaesang Pastikan PSI Terbuka, Bakal Datang ke Hambalang dan Teuku Umar  detikNews',\n",
              "  'published date': 'Fri, 29 Sep 2023 07:35:59 GMT',\n",
              "  'url': 'https://news.google.com/rss/articles/CBMibWh0dHBzOi8vbmV3cy5kZXRpay5jb20vcGVtaWx1L2QtNjk1NjMwNS9rYWVzYW5nLXBhc3Rpa2FuLXBzaS10ZXJidWthLWJha2FsLWRhdGFuZy1rZS1oYW1iYWxhbmctZGFuLXRldWt1LXVtYXLSAXFodHRwczovL25ld3MuZGV0aWsuY29tL3BlbWlsdS9kLTY5NTYzMDUva2Flc2FuZy1wYXN0aWthbi1wc2ktdGVyYnVrYS1iYWthbC1kYXRhbmcta2UtaGFtYmFsYW5nLWRhbi10ZXVrdS11bWFyL2FtcA?oc=5&hl=en-US&gl=US&ceid=US:en',\n",
              "  'publisher': {'href': 'https://news.detik.com', 'title': 'detikNews'}},\n",
              " {'title': 'PKS Curiga Ada Skenario Penunjukkan Kaesang Ketum PSI - Metro TV News',\n",
              "  'description': 'PKS Curiga Ada Skenario Penunjukkan Kaesang Ketum PSI  Metro TV News',\n",
              "  'published date': 'Fri, 29 Sep 2023 09:40:15 GMT',\n",
              "  'url': 'https://news.google.com/rss/articles/CBMiX2h0dHBzOi8vd3d3Lm1ldHJvdHZuZXdzLmNvbS9wbGF5L05RQUMyUHo0LXBrcy1jdXJpZ2EtYWRhLXNrZW5hcmlvLXBlbnVuanVra2FuLWthZXNhbmcta2V0dW0tcHNp0gEA?oc=5&hl=en-US&gl=US&ceid=US:en',\n",
              "  'publisher': {'href': 'https://www.metrotvnews.com',\n",
              "   'title': 'Metro TV News'}}]"
            ]
          },
          "metadata": {},
          "execution_count": 7
        }
      ]
    },
    {
      "cell_type": "code",
      "source": [
        "#test another method\n",
        "#instead of search by keyword, let's retrieve top news from google-news\n",
        "\n",
        "#get top news from the last 7 days\n",
        "google_news = GNews(language='id', country='ID', period='7d',\n",
        "                    start_date=None, end_date=None, max_results=10)\n",
        "top_news = google_news.get_top_news()\n",
        "\n",
        "#check collected news metadata\n",
        "top_news"
      ],
      "metadata": {
        "colab": {
          "base_uri": "https://localhost:8080/"
        },
        "id": "1q-Oc_ds8A3I",
        "outputId": "cda7c808-a800-441e-ac90-04f1f5d6a52f"
      },
      "execution_count": 8,
      "outputs": [
        {
          "output_type": "execute_result",
          "data": {
            "text/plain": [
              "[{'title': 'Rumah Dinas Digeledah KPK, SYL Ungkap Hilirisasi Jokowi di Spanyol - CNN Indonesia',\n",
              "  'description': 'Rumah Dinas Digeledah KPK, SYL Ungkap Hilirisasi Jokowi di Spanyol  CNN IndonesiaDua Temuan KPK Usai Geledah Rumah Dinas Mentan Syahrul  Kompas.com5 Kontroversi Syahrul Yasin Limpo, dari Bantah Food Estate Gagal, Kalung Anti Corona hingga Angkat Lesti Kejora Duta Petani  Bisnis Tempo.coKPK Dikabarkan Tetapkan Mentan Syahrul Yasin Limpo Tersangka  CNN IndonesiaSurya Paloh Irit Bicara soal Temuan Uang Miliaran di Rumah Dinas Mentan Syahrul: Nanti Ya  TribunnewsLihat Liputan Lengkap di Google Berita',\n",
              "  'published date': 'Sat, 30 Sep 2023 03:28:10 GMT',\n",
              "  'url': 'https://news.google.com/rss/articles/CBMigAFodHRwczovL3d3dy5jbm5pbmRvbmVzaWEuY29tL2Vrb25vbWkvMjAyMzA5MzAxMDExMzEtOTItMTAwNTQ2OC9ydW1haC1kaW5hcy1kaWdlbGVkYWgta3BrLXN5bC11bmdrYXAtaGlsaXJpc2FzaS1qb2tvd2ktZGktc3BhbnlvbNIBhAFodHRwczovL3d3dy5jbm5pbmRvbmVzaWEuY29tL2Vrb25vbWkvMjAyMzA5MzAxMDExMzEtOTItMTAwNTQ2OC9ydW1haC1kaW5hcy1kaWdlbGVkYWgta3BrLXN5bC11bmdrYXAtaGlsaXJpc2FzaS1qb2tvd2ktZGktc3BhbnlvbC9hbXA?oc=5&hl=en-US&gl=US&ceid=US:en',\n",
              "  'publisher': {'href': 'https://www.cnnindonesia.com',\n",
              "   'title': 'CNN Indonesia'}},\n",
              " {'title': 'Ketua KPU hingga Firli Bakal Jadi Pembicara di Rakernas PDIP - detikNews',\n",
              "  'description': 'Ketua KPU hingga Firli Bakal Jadi Pembicara di Rakernas PDIP  detikNews[FULL] Jokowi Bicara Soal Pangan Hingga Situasi Geopolitik di Rakernas PDIP  KOMPASTVRakernas IV PDI-P, Kader Bersorak Saat Mahfud dan Ahok Disorot Kamera - Kompas.com  Nasional Kompas.comGanjar Ungkap Bisikan Jokowi saat Megawati Pidato di Rakernas PDIP  CNN IndonesiaJokowi Targetkan 61 Waduk Rampung Hingga 2024  CNN IndonesiaLihat Liputan Lengkap di Google Berita',\n",
              "  'published date': 'Sat, 30 Sep 2023 01:56:22 GMT',\n",
              "  'url': 'https://news.google.com/rss/articles/CBMiZGh0dHBzOi8vbmV3cy5kZXRpay5jb20vcGVtaWx1L2QtNjk1NzYzNS9rZXR1YS1rcHUtaGluZ2dhLWZpcmxpLWJha2FsLWphZGktcGVtYmljYXJhLWRpLXJha2VybmFzLXBkaXDSAWhodHRwczovL25ld3MuZGV0aWsuY29tL3BlbWlsdS9kLTY5NTc2MzUva2V0dWEta3B1LWhpbmdnYS1maXJsaS1iYWthbC1qYWRpLXBlbWJpY2FyYS1kaS1yYWtlcm5hcy1wZGlwL2FtcA?oc=5&hl=en-US&gl=US&ceid=US:en',\n",
              "  'publisher': {'href': 'https://news.detik.com', 'title': 'detikNews'}},\n",
              " {'title': 'Sosok Ketua Geng Pelaku \"Bullying\" Cilacap, Juara Silat dan Pernah Dikeluarkan dari Sekolah - Kompas.com - Kompas.com',\n",
              "  'description': 'Sosok Ketua Geng Pelaku \"Bullying\" Cilacap, Juara Silat dan Pernah Dikeluarkan dari Sekolah - Kompas.com  Kompas.comKabar Baik dari Siswa Korban Perundungan di Cilacap Meski Tulang Rusuknya Patah  tvOneNews.comSOK GARANG saat Bully Kicep saat Ditangkap, Pelaku MK Terus Menunduk Diciduk Polisi & Disoraki Warga  TribunnewsKenali Perilaku Anak yang Berpotensi Jadi Pelaku Bullying - Kompas.com  Lifestyle Kompas.comViral Foto Siswa SMP di Tasik Injak Kepala Teman, Kepsek Bilang Bercanda  detikNewsLihat Liputan Lengkap di Google Berita',\n",
              "  'published date': 'Fri, 29 Sep 2023 15:47:00 GMT',\n",
              "  'url': 'https://news.google.com/rss/articles/CBMigQFodHRwczovL3JlZ2lvbmFsLmtvbXBhcy5jb20vcmVhZC8yMDIzLzA5LzI5LzIyNDcyOTg3OC9zb3Nvay1rZXR1YS1nZW5nLXBlbGFrdS1idWxseWluZy1jaWxhY2FwLWp1YXJhLXNpbGF0LWRhbi1wZXJuYWgtZGlrZWx1YXJrYW7SAYUBaHR0cHM6Ly9hbXAua29tcGFzLmNvbS9yZWdpb25hbC9yZWFkLzIwMjMvMDkvMjkvMjI0NzI5ODc4L3Nvc29rLWtldHVhLWdlbmctcGVsYWt1LWJ1bGx5aW5nLWNpbGFjYXAtanVhcmEtc2lsYXQtZGFuLXBlcm5haC1kaWtlbHVhcmthbg?oc=5&hl=en-US&gl=US&ceid=US:en',\n",
              "  'publisher': {'href': 'https://regional.kompas.com', 'title': 'Kompas.com'}},\n",
              " {'title': 'Pengamat Nilai Anies Tidak Bisa Lepas dari Rizieq Syihab - Nasional Tempo',\n",
              "  'description': 'Pengamat Nilai Anies Tidak Bisa Lepas dari Rizieq Syihab  Nasional TempoUsai Bertemu Prabowo, Gus Kautsar Ajak Santri Dukung Anies-Cak Imin  VIVA.co.idAnies-Cak Imin Kunjungi Masjid di Sumenep: Amin Itu Singkatan dari...  CNN IndonesiaPCNU Angkat Bicara soal Kiai Malang Bikin Koalisi Prabowo-Cak Imin Ambyar  detikJatimGus NU di Jatim Ungkap Kesan Pertama Bertemu Anies: Pintar, Sopan, Ganteng Lagi  Liputan6.comLihat Liputan Lengkap di Google Berita',\n",
              "  'published date': 'Sat, 30 Sep 2023 00:23:01 GMT',\n",
              "  'url': 'https://news.google.com/rss/articles/CBMiX2h0dHBzOi8vbmFzaW9uYWwudGVtcG8uY28vcmVhZC8xNzc3OTU3L3BlbmdhbWF0LW5pbGFpLWFuaWVzLXRpZGFrLWJpc2EtbGVwYXMtZGFyaS1yaXppZXEtc3lpaGFi0gFeaHR0cHM6Ly9uYXNpb25hbC50ZW1wby5jby9hbXAvMTc3Nzk1Ny9wZW5nYW1hdC1uaWxhaS1hbmllcy10aWRhay1iaXNhLWxlcGFzLWRhcmktcml6aWVxLXN5aWhhYg?oc=5&hl=en-US&gl=US&ceid=US:en',\n",
              "  'publisher': {'href': 'https://nasional.tempo.co',\n",
              "   'title': 'Nasional Tempo'}},\n",
              " {'title': '4 Anggota KKB Dilumpuhkan di Pegunungan Bintang - Kompas.com - Kompas.com',\n",
              "  'description': '4 Anggota KKB Dilumpuhkan di Pegunungan Bintang - Kompas.com  Kompas.com4 KKB Tewas Ditembak Tim Gabungan TNI-Polri di Papua Pegunungan  detikNewsSatgas Cartenz Tembak Mati Lima Anggota KKB Ananias Ati Mimin  CNN IndonesiaSatgas Damai Cartenz Tembak 5 Anggota KKB di Pegunungan Bintang Papua  Nasional Kompas.com4 Anggota KKB Tewas Ditembak di Pegunungan Bintang, 2 Senpi Disita  detikSulselLihat Liputan Lengkap di Google Berita',\n",
              "  'published date': 'Sat, 30 Sep 2023 02:36:00 GMT',\n",
              "  'url': 'https://news.google.com/rss/articles/CBMiZWh0dHBzOi8vcmVnaW9uYWwua29tcGFzLmNvbS9yZWFkLzIwMjMvMDkvMzAvMDkzNjA4Nzc4LzQtYW5nZ290YS1ra2ItZGlsdW1wdWhrYW4tZGktcGVndW51bmdhbi1iaW50YW5n0gFpaHR0cHM6Ly9hbXAua29tcGFzLmNvbS9yZWdpb25hbC9yZWFkLzIwMjMvMDkvMzAvMDkzNjA4Nzc4LzQtYW5nZ290YS1ra2ItZGlsdW1wdWhrYW4tZGktcGVndW51bmdhbi1iaW50YW5n?oc=5&hl=en-US&gl=US&ceid=US:en',\n",
              "  'publisher': {'href': 'https://regional.kompas.com', 'title': 'Kompas.com'}},\n",
              " {'title': 'Bus Terguling di Km 6 Tol Dalkot Arah Cawang, Lalin Macet - detikNews',\n",
              "  'description': 'Bus Terguling di Km 6 Tol Dalkot Arah Cawang, Lalin Macet  detikNewsMobil Tabrak Separator Busway di Jl Gatsu Jakpus hingga Ringsek  detikNewsLihat Liputan Lengkap di Google Berita',\n",
              "  'published date': 'Sat, 30 Sep 2023 00:13:25 GMT',\n",
              "  'url': 'https://news.google.com/rss/articles/CBMiYGh0dHBzOi8vbmV3cy5kZXRpay5jb20vYmVyaXRhL2QtNjk1NzU3MS9idXMtdGVyZ3VsaW5nLWRpLWttLTYtdG9sLWRhbGtvdC1hcmFoLWNhd2FuZy1sYWxpbi1tYWNldNIBZGh0dHBzOi8vbmV3cy5kZXRpay5jb20vYmVyaXRhL2QtNjk1NzU3MS9idXMtdGVyZ3VsaW5nLWRpLWttLTYtdG9sLWRhbGtvdC1hcmFoLWNhd2FuZy1sYWxpbi1tYWNldC9hbXA?oc=5&hl=en-US&gl=US&ceid=US:en',\n",
              "  'publisher': {'href': 'https://news.detik.com', 'title': 'detikNews'}},\n",
              " {'title': 'Ketua Umum PSI Kaesang Ungkap Kriteria Capres | Obrolan Malam Eps 146 - BeritaSatu',\n",
              "  'description': 'Ketua Umum PSI Kaesang Ungkap Kriteria Capres | Obrolan Malam Eps 146  BeritaSatuKaesang Mau Temui Megawati-Prabowo, PPP Singgung Kepemimpinan PSI Sebelumnya  detikNewsPolitik Dinasti Jadi Ancaman Kualitas Demokrasi! Survei Voxpol: 69,3% Masyarakat tak Setuju  TribunnewsPSI Sambut Baik Jika Jokowi Bergabung Jadi Kader Susul Kaesang  CNN IndonesiaKetua Umum PSI Kaesang Siap Bertandang ke Hambalang dan Teuku Umar  CNN IndonesiaLihat Liputan Lengkap di Google Berita',\n",
              "  'published date': 'Fri, 29 Sep 2023 15:06:28 GMT',\n",
              "  'url': 'https://news.google.com/rss/articles/CCAiC0RTVDdlQm1uenQwmAEB?oc=5&hl=en-US&gl=US&ceid=US:en',\n",
              "  'publisher': {'href': 'https://www.youtube.com', 'title': 'BeritaSatu'}},\n",
              " {'title': 'TERKUAK! Intelejen Amerika Terlibat Dalam Peristiwa G30S/PKI Sampai Gelontorkan Dana 500 Ribu USD - Tribunnews',\n",
              "  'description': 'TERKUAK! Intelejen Amerika Terlibat Dalam Peristiwa G30S/PKI Sampai Gelontorkan Dana 500 Ribu USD  TribunnewsRangkuman Peristiwa G30S PKI, Cikal Bakal Hari Kesaktian Pancasila  CNN IndonesiaTerjawab Kapan Film G30S/PKI Tayang di TV 2023, Cek Kapan Ditayangkan, Jadwal, Jam Berapa, Rangkuman  Tribun Kaltim55 Kata-Kata Mutiara Peringatan G30S/PKI Singkat untuk Caption Medsos  detikSumutDokumen Gilchrist Versi Keterlibatan Intelijen Asing dalam Peristiwa G30S 1965  Nasional TempoLihat Liputan Lengkap di Google Berita',\n",
              "  'published date': 'Fri, 29 Sep 2023 16:00:47 GMT',\n",
              "  'url': 'https://news.google.com/rss/articles/CCAiC3VINVBMTGIyQWw4mAEB?oc=5&hl=en-US&gl=US&ceid=US:en',\n",
              "  'publisher': {'href': 'https://www.youtube.com', 'title': 'Tribunnews'}},\n",
              " {'title': 'Pontjo Sutowo Diminta Kosongkan Hotel Sultan Jam 12 Malam Ini - CNBC Indonesia',\n",
              "  'description': 'Pontjo Sutowo Diminta Kosongkan Hotel Sultan Jam 12 Malam Ini  CNBC IndonesiaTerungkap, Pontjo Sutowo Tak Pernah Minta Izin Perpanjangan HGB Hotel Sultan  KOMPAS.comIzin Pengelolaan Habis, Hotel Sultan Gulung Tikar?  METRO TVDiminta Kosongkan Hotel Sultan, Pontjo Sutowo Diberi Waktu Sampai Jam 12 Malam  detikFinanceBabak Baru Negara Vs Pontjo Sutowo, Ada Tunggakan Royalti Rp 600 M  detikFinanceLihat Liputan Lengkap di Google Berita',\n",
              "  'published date': 'Fri, 29 Sep 2023 12:46:04 GMT',\n",
              "  'url': 'https://news.google.com/rss/articles/CBMieGh0dHBzOi8vd3d3LmNuYmNpbmRvbmVzaWEuY29tL25ld3MvMjAyMzA5MjkxOTQyNDYtNC00NzY2MTMvcG9udGpvLXN1dG93by1kaW1pbnRhLWtvc29uZ2thbi1ob3RlbC1zdWx0YW4tamFtLTEyLW1hbGFtLWluadIBfGh0dHBzOi8vd3d3LmNuYmNpbmRvbmVzaWEuY29tL25ld3MvMjAyMzA5MjkxOTQyNDYtNC00NzY2MTMvcG9udGpvLXN1dG93by1kaW1pbnRhLWtvc29uZ2thbi1ob3RlbC1zdWx0YW4tamFtLTEyLW1hbGFtLWluaS9hbXA?oc=5&hl=en-US&gl=US&ceid=US:en',\n",
              "  'publisher': {'href': 'https://www.cnbcindonesia.com',\n",
              "   'title': 'CNBC Indonesia'}},\n",
              " {'title': 'Kritik Bahlil dan Luhut ke TikTok Shop usai Larangan Jualan-Transaksi - CNN Indonesia',\n",
              "  'description': 'Kritik Bahlil dan Luhut ke TikTok Shop usai Larangan Jualan-Transaksi  CNN IndonesiaTanah Abang Sepi Efek TikTok Shop, Ini Kata Pihak E-Commerce  CNBC IndonesiaMenkop Teten Sebut 56 Persen Pendapatan \"E-commerce\" Dinikmati Negara Asing - Kompas.com  Kompas.comAkhir Perjalanan TikTok Shop Usai Terbit Aturan Pemerintah  detikFinanceTerbongkar! Begini Permainan Harga di TikTok Shop  detikFinanceLihat Liputan Lengkap di Google Berita',\n",
              "  'published date': 'Sat, 30 Sep 2023 01:38:00 GMT',\n",
              "  'url': 'https://news.google.com/rss/articles/CBMihAFodHRwczovL3d3dy5jbm5pbmRvbmVzaWEuY29tL2Vrb25vbWkvMjAyMzA5MzAwODEyMzktOTItMTAwNTQ1NS9rcml0aWstYmFobGlsLWRhbi1sdWh1dC1rZS10aWt0b2stc2hvcC11c2FpLWxhcmFuZ2FuLWp1YWxhbi10cmFuc2Frc2nSAYgBaHR0cHM6Ly93d3cuY25uaW5kb25lc2lhLmNvbS9la29ub21pLzIwMjMwOTMwMDgxMjM5LTkyLTEwMDU0NTUva3JpdGlrLWJhaGxpbC1kYW4tbHVodXQta2UtdGlrdG9rLXNob3AtdXNhaS1sYXJhbmdhbi1qdWFsYW4tdHJhbnNha3NpL2FtcA?oc=5&hl=en-US&gl=US&ceid=US:en',\n",
              "  'publisher': {'href': 'https://www.cnnindonesia.com',\n",
              "   'title': 'CNN Indonesia'}}]"
            ]
          },
          "metadata": {},
          "execution_count": 8
        }
      ]
    },
    {
      "cell_type": "code",
      "source": [
        "#collect metadata by news topic\n",
        "#Available topics: WORLD, NATION, BUSINESS, TECHNOLOGY, ENTERTAINMENT, SPORTS, SCIENCE, HEALTH\n",
        "\n",
        "google_news = GNews(language='id', country='ID',\n",
        "                    period='7d', start_date=None, end_date=None,\n",
        "                    max_results=5, exclude_websites = ['yahoo.com', 'msn'] )\n",
        "news_by_topic = google_news.get_news_by_topic('NATION')\n",
        "\n",
        "#check collected news\n",
        "news_by_topic\n"
      ],
      "metadata": {
        "colab": {
          "base_uri": "https://localhost:8080/"
        },
        "id": "dHiAf_7zvphJ",
        "outputId": "9707fb4d-19f6-430f-c942-76155fd68e20"
      },
      "execution_count": 9,
      "outputs": [
        {
          "output_type": "execute_result",
          "data": {
            "text/plain": [
              "[{'title': 'Rumah Dinas Digeledah KPK, SYL Ungkap Hilirisasi Jokowi di Spanyol - CNN Indonesia',\n",
              "  'description': 'Rumah Dinas Digeledah KPK, SYL Ungkap Hilirisasi Jokowi di Spanyol  CNN IndonesiaDua Temuan KPK Usai Geledah Rumah Dinas Mentan Syahrul  Kompas.com5 Kontroversi Syahrul Yasin Limpo, dari Bantah Food Estate Gagal, Kalung Anti Corona hingga Angkat Lesti Kejora Duta Petani  Bisnis Tempo.coKPK Dikabarkan Tetapkan Mentan Syahrul Yasin Limpo Tersangka  CNN IndonesiaSurya Paloh Irit Bicara soal Temuan Uang Miliaran di Rumah Dinas Mentan Syahrul: Nanti Ya  TribunnewsLihat Liputan Lengkap di Google Berita',\n",
              "  'published date': 'Sat, 30 Sep 2023 03:28:10 GMT',\n",
              "  'url': 'https://news.google.com/rss/articles/CBMigAFodHRwczovL3d3dy5jbm5pbmRvbmVzaWEuY29tL2Vrb25vbWkvMjAyMzA5MzAxMDExMzEtOTItMTAwNTQ2OC9ydW1haC1kaW5hcy1kaWdlbGVkYWgta3BrLXN5bC11bmdrYXAtaGlsaXJpc2FzaS1qb2tvd2ktZGktc3BhbnlvbNIBhAFodHRwczovL3d3dy5jbm5pbmRvbmVzaWEuY29tL2Vrb25vbWkvMjAyMzA5MzAxMDExMzEtOTItMTAwNTQ2OC9ydW1haC1kaW5hcy1kaWdlbGVkYWgta3BrLXN5bC11bmdrYXAtaGlsaXJpc2FzaS1qb2tvd2ktZGktc3BhbnlvbC9hbXA?oc=5&hl=en-US&gl=US&ceid=US:en',\n",
              "  'publisher': {'href': 'https://www.cnnindonesia.com',\n",
              "   'title': 'CNN Indonesia'}},\n",
              " {'title': 'Ketua KPU hingga Firli Bakal Jadi Pembicara di Rakernas PDIP - detikNews',\n",
              "  'description': 'Ketua KPU hingga Firli Bakal Jadi Pembicara di Rakernas PDIP  detikNews[FULL] Jokowi Bicara Soal Pangan Hingga Situasi Geopolitik di Rakernas PDIP  KOMPASTVRakernas IV PDI-P, Kader Bersorak Saat Mahfud dan Ahok Disorot Kamera - Kompas.com  Nasional Kompas.comGanjar Ungkap Bisikan Jokowi saat Megawati Pidato di Rakernas PDIP  CNN IndonesiaJokowi Targetkan 61 Waduk Rampung Hingga 2024  CNN IndonesiaLihat Liputan Lengkap di Google Berita',\n",
              "  'published date': 'Sat, 30 Sep 2023 01:56:22 GMT',\n",
              "  'url': 'https://news.google.com/rss/articles/CBMiZGh0dHBzOi8vbmV3cy5kZXRpay5jb20vcGVtaWx1L2QtNjk1NzYzNS9rZXR1YS1rcHUtaGluZ2dhLWZpcmxpLWJha2FsLWphZGktcGVtYmljYXJhLWRpLXJha2VybmFzLXBkaXDSAWhodHRwczovL25ld3MuZGV0aWsuY29tL3BlbWlsdS9kLTY5NTc2MzUva2V0dWEta3B1LWhpbmdnYS1maXJsaS1iYWthbC1qYWRpLXBlbWJpY2FyYS1kaS1yYWtlcm5hcy1wZGlwL2FtcA?oc=5&hl=en-US&gl=US&ceid=US:en',\n",
              "  'publisher': {'href': 'https://news.detik.com', 'title': 'detikNews'}},\n",
              " {'title': 'Ketua Umum PSI Kaesang Ungkap Kriteria Capres | Obrolan Malam Eps 146 - BeritaSatu',\n",
              "  'description': 'Ketua Umum PSI Kaesang Ungkap Kriteria Capres | Obrolan Malam Eps 146  BeritaSatuKaesang Mau Temui Megawati-Prabowo, PPP Singgung Kepemimpinan PSI Sebelumnya  detikNewsPuji Kaesang yang Mau Masuk Politik, Luhut: Kamu Hebat  Kompas.comPSI Sambut Baik Jika Jokowi Bergabung Jadi Kader Susul Kaesang  CNN IndonesiaKetua Umum PSI Kaesang Siap Bertandang ke Hambalang dan Teuku Umar  CNN IndonesiaLihat Liputan Lengkap di Google Berita',\n",
              "  'published date': 'Fri, 29 Sep 2023 15:06:28 GMT',\n",
              "  'url': 'https://news.google.com/rss/articles/CCAiC0RTVDdlQm1uenQwmAEB?oc=5&hl=en-US&gl=US&ceid=US:en',\n",
              "  'publisher': {'href': 'https://www.youtube.com', 'title': 'BeritaSatu'}},\n",
              " {'title': 'Sosok Ketua Geng Pelaku \"Bullying\" Cilacap, Juara Silat dan Pernah Dikeluarkan dari Sekolah - Kompas.com - Kompas.com',\n",
              "  'description': 'Sosok Ketua Geng Pelaku \"Bullying\" Cilacap, Juara Silat dan Pernah Dikeluarkan dari Sekolah - Kompas.com  Kompas.comKabar Baik dari Siswa Korban Perundungan di Cilacap Meski Tulang Rusuknya Patah  tvOneNews.comKorban Bullying SMP di Cilacap, Alami Patah Tulang Rusuk dan Abses Saraf Leher  VIVA.CO.ID2 Siswa Pelaku Bully di SMP Cilacap Jadi Tersangka  CNN IndonesiaSempat Sesak Napas, Korban Bullying Cilacap Dirujuk: Patah Tulang Rusuk hingga Abses Urat Saraf Leher  tvOneNews.comLihat Liputan Lengkap di Google Berita',\n",
              "  'published date': 'Fri, 29 Sep 2023 15:47:00 GMT',\n",
              "  'url': 'https://news.google.com/rss/articles/CBMigQFodHRwczovL3JlZ2lvbmFsLmtvbXBhcy5jb20vcmVhZC8yMDIzLzA5LzI5LzIyNDcyOTg3OC9zb3Nvay1rZXR1YS1nZW5nLXBlbGFrdS1idWxseWluZy1jaWxhY2FwLWp1YXJhLXNpbGF0LWRhbi1wZXJuYWgtZGlrZWx1YXJrYW7SAYUBaHR0cHM6Ly9hbXAua29tcGFzLmNvbS9yZWdpb25hbC9yZWFkLzIwMjMvMDkvMjkvMjI0NzI5ODc4L3Nvc29rLWtldHVhLWdlbmctcGVsYWt1LWJ1bGx5aW5nLWNpbGFjYXAtanVhcmEtc2lsYXQtZGFuLXBlcm5haC1kaWtlbHVhcmthbg?oc=5&hl=en-US&gl=US&ceid=US:en',\n",
              "  'publisher': {'href': 'https://regional.kompas.com', 'title': 'Kompas.com'}},\n",
              " {'title': 'Usai Bertemu Prabowo, Gus Kautsar Ajak Santri Dukung Anies-Cak Imin - VIVA.co.id',\n",
              "  'description': 'Usai Bertemu Prabowo, Gus Kautsar Ajak Santri Dukung Anies-Cak Imin  VIVA.co.idAnies-Cak Imin Tanggapi Pernyataan PDIP soal Isu 2 Poros Jika PKB Hengkang  KOMPASTVAnies-Cak Imin Kunjungi Masjid di Sumenep: Amin Itu Singkatan dari...  CNN IndonesiaPCNU Angkat Bicara soal Kiai Malang Bikin Koalisi Prabowo-Cak Imin Ambyar  detikJatimGus Kautsar Sebut Pasangan Anies-Cak Imin Istimewa, Bakal Dukung?  detikNewsLihat Liputan Lengkap di Google Berita',\n",
              "  'published date': 'Fri, 29 Sep 2023 23:15:41 GMT',\n",
              "  'url': 'https://news.google.com/rss/articles/CBMicGh0dHBzOi8vd3d3LnZpdmEuY28uaWQvYmVyaXRhL3BvbGl0aWsvMTY0MjQ5Ny11c2FpLWJlcnRlbXUtcHJhYm93by1ndXMta2F1dHNhci1hamFrLXNhbnRyaS1kdWt1bmctYW5pZXMtY2FrLWltaW7SAXRodHRwczovL3d3dy52aXZhLmNvLmlkL2FtcC9iZXJpdGEvcG9saXRpay8xNjQyNDk3LXVzYWktYmVydGVtdS1wcmFib3dvLWd1cy1rYXV0c2FyLWFqYWstc2FudHJpLWR1a3VuZy1hbmllcy1jYWstaW1pbg?oc=5&hl=en-US&gl=US&ceid=US:en',\n",
              "  'publisher': {'href': 'https://www.viva.co.id', 'title': 'VIVA.co.id'}}]"
            ]
          },
          "metadata": {},
          "execution_count": 9
        }
      ]
    },
    {
      "cell_type": "markdown",
      "source": [
        "## Extract news content\n",
        "The `UnstructuredURLLoader` from Langchain library is usefull toolkit to get easy access to HTML contents from a url. This package is actually a wrapper of `bricks.html` partition from [Unstructured](https://unstructured-io.github.io/unstructured/bricks/partition.html#partition-html) library.  We will use it as an extractor of news content based on url collected from previous steps."
      ],
      "metadata": {
        "id": "BWhh3SmsU6ne"
      }
    },
    {
      "cell_type": "code",
      "source": [
        "#test to extract content from url inside news_by_topic\n",
        "\n",
        "urls = [news_by_topic[0]['url'],\n",
        "        news_by_topic[1]['url'],\n",
        "      ]\n",
        "\n",
        "loader = UnstructuredURLLoader(urls=urls)\n",
        "content = loader.load()\n",
        "\n",
        "#check news content\n",
        "content"
      ],
      "metadata": {
        "colab": {
          "base_uri": "https://localhost:8080/"
        },
        "id": "bwZ3SZ8cWJ8N",
        "outputId": "f63e1435-cd32-4807-bccf-e5d3cec9ba66"
      },
      "execution_count": 18,
      "outputs": [
        {
          "output_type": "execute_result",
          "data": {
            "text/plain": [
              "[Document(page_content='Advertisement\\n\\nCLOSE\\n\\nHome\\n\\nNasional \\n                \\n                    \\n                        \\n                                                                                                 Politik \\n                                                                                                                                 Hukum & Kriminal \\n                                                                                                                                 Peristiwa \\n                                                                                                                                 Pemilu 2024 \\n                                                                                    \\n                        \\n                            \\n                                BERITA TERBARU\\n                            \\n                            \\n                                                                    \\n                                        \\n                                            \\n                                                \\n                                                    \\n                                                \\n                                            \\n                                            \\n                                                Geledah Kantor Kementan, KPK Amankan Dokumen dan Bukti Elektronik\\n                                            \\n                                        \\n                                    \\n                                                                    \\n                                        \\n                                            \\n                                                \\n                                                    \\n                                                \\n                                            \\n                                            \\n                                                Satgas Cartenz Tembak Mati Lima Anggota KKB Ananias Ati Mimin\\n                                            \\n                                        \\n                                    \\n                                                                    \\n                                        \\n                                            \\n                                                \\n                                                    \\n                                                \\n                                            \\n                                            \\n                                                MA Perintahkan KPU Cabut Aturan Karpet Merah Eks Koruptor Nyaleg\\n\\nInternasional \\n                \\n                    \\n                        \\n                                                                                                 Asean \\n                                                                                                                                 Asia Pasifik \\n                                                                                                                                 Timur Tengah \\n                                                                                                                                 Eropa Amerika \\n                                                                                    \\n                        \\n                            \\n                                BERITA TERBARU\\n                            \\n                            \\n                                                                    \\n                                        \\n                                            \\n                                                \\n                                                    \\n                                                \\n                                            \\n                                            \\n                                                FOTO: Penampakan Jalan hingga Rumah di New York Terendam Banjir \\n                                            \\n                                        \\n                                    \\n                                                                    \\n                                        \\n                                            \\n                                                \\n                                                    \\n                                                \\n                                            \\n                                            \\n                                                Luhut Ancam Pemain Harga Minyak Goreng: Nanti Dipenjarain Kau\\n                                            \\n                                        \\n                                    \\n                                                                    \\n                                        \\n                                            \\n                                                \\n                                                    \\n                                                \\n                                            \\n                                            \\n                                                Banjir di New York Rendam Kereta Bawah Tanah\\n\\nEkonomi \\n                \\n                    \\n                        \\n                                                                                                 Keuangan \\n                                                                                                                                 Energi \\n                                                                                                                                 Bisnis \\n                                                                                                                                 Makro \\n                                                                                                                                 Corporate Action \\n                                                                                    \\n                        \\n                            \\n                                BERITA TERBARU\\n                            \\n                            \\n                                                                    \\n                                        \\n                                            \\n                                                \\n                                                    \\n                                                \\n                                            \\n                                            \\n                                                Rumah Dinas Digeledah KPK, SYL Ungkap Hilirisasi Jokowi di Spanyol\\n                                            \\n                                        \\n                                    \\n                                                                    \\n                                        \\n                                            \\n                                                \\n                                                    \\n                                                \\n                                            \\n                                            \\n                                                Ketentuan BCA Tutup Rekening Saldo Rp0 Berlaku 1 November\\n                                            \\n                                        \\n                                    \\n                                                                    \\n                                        \\n                                            \\n                                                \\n                                                    \\n                                                \\n                                            \\n                                            \\n                                                Kritik Bahlil dan Luhut ke TikTok Shop usai Larangan Jualan-Transaksi\\n\\nOlahraga \\n                \\n                    \\n                        \\n                                                                                                 Sepakbola \\n                                                                                                                                 Moto GP \\n                                                                                                                                 F1 \\n                                                                                                                                 Raket \\n                                                                                    \\n                        \\n                            \\n                                BERITA TERBARU\\n                            \\n                            \\n                                                                    \\n                                        \\n                                            \\n                                                \\n                                                    \\n                                                \\n                                            \\n                                            \\n                                                Jadwal Perempat Final Sepak Bola Asian Games: Jepang vs Korea Utara\\n                                            \\n                                        \\n                                    \\n                                                                    \\n                                        \\n                                            \\n                                                \\n                                                    \\n                                                \\n                                            \\n                                            \\n                                                Gagal di Asian Games 2023, Indra Persiapan Piala Dunia U-20 2025\\n                                            \\n                                        \\n                                    \\n                                                                    \\n                                        \\n                                            \\n                                                \\n                                                    \\n                                                \\n                                            \\n                                            \\n                                                VIDEO: Penalti Ronaldo Bawa Al Nassr Menang Dramatis\\n\\nTeknologi \\n                \\n                    \\n                        \\n                                                                                                 Teknologi Informasi \\n                                                                                                                                 Sains \\n                                                                                                                                 Telekomunikasi \\n                                                                                    \\n                        \\n                            \\n                                BERITA TERBARU\\n                            \\n                            \\n                                                                    \\n                                        \\n                                            \\n                                                \\n                                                    \\n                                                \\n                                            \\n                                            \\n                                                Cerita Banjir Iklan Tak Terbendung di Hp Xiaomi, Sulitkan Orang Tua\\n                                            \\n                                        \\n                                    \\n                                                                    \\n                                        \\n                                            \\n                                                \\n                                                    \\n                                                \\n                                            \\n                                            \\n                                                Cerita Warga China Cari Kerja Lewat \\'Biro Jodoh\\' Tinder\\n                                            \\n                                        \\n                                    \\n                                                                    \\n                                        \\n                                            \\n                                                \\n                                                    \\n                                                \\n                                            \\n                                            \\n                                                CEO Bingung Saat Ditanya Soal Rencana Elon Jadikan X Full Berbayar\\n\\nOtomotif \\n                \\n                    \\n                        \\n                                                                                                 Tren \\n                                                                                                                                 Mobil \\n                                                                                                                                 Motor \\n                                                                                                                                 E-Vehicle \\n                                                                                    \\n                        \\n                            \\n                                BERITA TERBARU\\n                            \\n                            \\n                                                                    \\n                                        \\n                                            \\n                                                \\n                                                    \\n                                                \\n                                            \\n                                            \\n                                                INFOGRAFIS: Daftar Pelanggaran Poin Tilang Terancam SIM Dicabut Polisi\\n                                            \\n                                        \\n                                    \\n                                                                    \\n                                        \\n                                            \\n                                                \\n                                                    \\n                                                \\n                                            \\n                                            \\n                                                Kendaraan Tak Lulus Uji Emisi Bayar Parkir Lebih Mahal Mulai Besok\\n                                            \\n                                        \\n                                    \\n                                                                    \\n                                        \\n                                            \\n                                                \\n                                                    \\n                                                \\n                                            \\n                                            \\n                                                Masalah Transisi SIM Digital di Malaysia\\n\\nHiburan \\n                \\n                    \\n                        \\n                                                                                                 Film \\n                                                                                                                                 Musik \\n                                                                                                                                 Seleb \\n                                                                                                                                 Seni Budaya \\n                                                                                                                                 Music At Newsroom \\n                                                                                    \\n                        \\n                            \\n                                BERITA TERBARU\\n                            \\n                            \\n                                                                    \\n                                        \\n                                            \\n                                                \\n                                                    \\n                                                \\n                                            \\n                                            \\n                                                Dramaturgi Slamet Rahardjo\\n                                            \\n                                        \\n                                    \\n                                                                    \\n                                        \\n                                            \\n                                                \\n                                                    \\n                                                \\n                                            \\n                                            \\n                                                FOTO: Kumari Puja, Ritual Pemberi Berkah ke Anak Perempuan\\n                                            \\n                                        \\n                                    \\n                                                                    \\n                                        \\n                                            \\n                                                \\n                                                    \\n                                                \\n                                            \\n                                            \\n                                                Intip Hadiah Juara AGT 2023, Putri Ariani Posisi Keempat\\n\\nGaya Hidup \\n                \\n                    \\n                        \\n                                                                                                 Health \\n                                                                                                                                 Food \\n                                                                                                                                 Travel \\n                                                                                                                                 Trends \\n                                                                                    \\n                        \\n                            \\n                                BERITA TERBARU\\n                            \\n                            \\n                                                                    \\n                                        \\n                                            \\n                                                \\n                                                    \\n                                                \\n                                            \\n                                            \\n                                                China Lanjutkan Kebijakan Bebas Visa Demi Tarik Wisatawan Asing\\n                                            \\n                                        \\n                                    \\n                                                                    \\n                                        \\n                                            \\n                                                \\n                                                    \\n                                                \\n                                            \\n                                            \\n                                                Daftar Nama 3 Orang yang Bebas ke Luar Negeri Tanpa Paspor\\n                                            \\n                                        \\n                                    \\n                                                                    \\n                                        \\n                                            \\n                                                \\n                                                    \\n                                                \\n                                            \\n                                            \\n                                                Ci(n)ta Rasa William Wongso\\n\\nCNN TV\\n\\nRagam\\n\\nFoto\\n\\nVideo\\n\\nInfografis\\n\\nIndeks\\n\\nFokus\\n\\nKolom\\n\\nTerpopuler\\n\\nKanal Pemilu Tepercaya\\n\\nFeatures\\n\\nLoading...\\n\\n\\n\\n\\n\\n\\n\\n\\n\\nHome\\n\\nEkonomi\\n\\nBisnis\\n\\nRumah Dinas Digeledah KPK, SYL Ungkap Hilirisasi Jokowi di Spanyol\\n\\nCNN Indonesia\\n\\nSabtu, 30 Sep 2023 10:28 WIB\\n\\nBagikan:\\n\\nMenteri Pertanian (Mentan) Syahrul Yasin Limpo\\xa0(SYL) berada di Spanyol kala rumah dinasnya digeledah Komisi Pemberantasan Korupsi (KPK). Di Spanyol, ia menyampaikan kebijakan hilirisasi yang digalakkan pemerintahan Joko Widodo (Jokowi).\\n\\nBerdasarkan keterangan resmi Kementerian Pertanian pada Sabtu (29/9), Syahrul melakukan pertemuan bilateral dengan Menteri Pertanian dan Perikanan Spanyol Luis Planas Puchades.\\n\\nLihat Juga : \\r\\n \\r\\n \\r\\n \\r\\n \\r\\n Profil Syahrul Yasin Limpo, Menteri yang Dikabarkan jadi Tersangka KPK\\n\\nADVERTISEMENT\\n\\nSCROLL TO CONTINUE WITH CONTENT\\n\\nIa menyampaikan Presiden Jokowi terus mendorong hilirisasi produk turunan bermutu agar bisa bersaing di pasar domestik maupun internasional.\\n\\n\"Karena itu, kami terus berkolaborasi dengan asosiasi bisnis maupun korporasi swasta. Bulan lalu, kami bekerjasama dengan Pemerintah Denmark untuk menguatkan produksi susu dan keju organik.\"\\n\\n\"Sementara di hortikultura, kami mendorong pengembangan dan komersialisasi produk herbal dari hulu ke hilir,\" kata SYL.\\n\\n[Gambas:Video CNN]\\n\\nDalam kesempatan itu, Syahrul juga mendorong Pemerintah Spanyol membuka akses pasar produk hortikultura asal Indonesia secara luas.\\n\\nIa mengusulkan pembentukan tim kerja sama untuk merumuskan langkah konkret peningkatan nilai tambah dan daya saing produk hortikultura Indonesia agar bisa mendominasi pasar global.\\n\\nSyahrul juga mendorong Luis agar membuat MoU dalam bentuk Joint Task Force untuk memajukan sektor pertanian kedua negara. Menurutnya, ada banyak aspek yang bisa dikerjasamakan antara Indonesia dan Spanyol.\\n\\nPilihan Redaksi \\r\\n \\r\\n \\r\\n Rusia Larang Ekspor Bensin dan Solar Demi Stabilkan Pasar \\r\\n \\r\\n \\r\\n Bos Bappenas Usul Sapi Ternak Dipasangi Cip Pantau Mutu Daging\\n\\n\"Termasuk dukungan Luis Planas dalam menghadapi ancaman krisis global yang diakibatkan oleh perubahan iklim, tekanan geopolitik global serta pemulihan ekonomi pasca pandemi,\" katanya.\\n\\nSementara itu, rumah dinas Syahrul di Jalan Widya Chandra V Nomor 28, Jakarta Selatan digeledah KPK sejak Kamis (28/9) sore hingga Jumat (29/9) pagi. Syahrul terseret permintaan paksa atau pemerasan jabatan di kasus dugaan korupsi.\\n\\nKepala Bagian Pemberitaan KPK Ali Fikri belum memerinci alat bukti apa yang ditemukan dari penggeledahan tersebut.\\n\\n\"Benar, ada giat di sana. Giat sedang berlangsung. Karena masih pada proses penyelidikan tentu tidak bisa kami sampaikan lebih lanjut. Segera kami sampaikan perkembangannya,\" kata Ali.\\n\\nKPK diketahui sedang menyelidiki kasus dugaan korupsi di Kementerian Pertanian (Kementan). KPK sudah meminta keterangan sejumlah orang terkait, termasuk SYL.\\n\\nBagikan:\\n\\nTOPIK TERKAIT\\n\\nsyahrul yasin limpo\\n\\nkpk\\n\\nbisnis\\n\\nARTIKEL TERKAIT\\n\\nMentan Siapkan 10 Jurus Antisipasi El Nino\\n\\nProfil Syahrul Yasin Limpo, Menteri yang Dikabarkan jadi Tersangka KPK\\n\\nRumah Dinas Digeledah KPK, Mentan SYL Bertemu Petani di Spanyol\\n\\nGurita Bisnis Milik Kaesang yang Baru Diangkat Jadi Ketum PSI\\n\\nBACA JUGA\\n\\nGeledah Kantor Kementan, KPK Amankan Dokumen dan Bukti Elektronik\\n\\nKPK: Total Uang yang Dibawa dari Rumah Dinas Mentan Rp30 Miliar\\n\\nLebih dari 10 Jam, KPK Masih Geledah Kementan Terkait Korupsi\\n\\nPolda Metro Dalami Temuan 12 Senpi di Rumah Dinas Mentan Syahrul Limpo\\n\\nLIHAT SEMUA\\n\\nREKOMENDASI UNTUK ANDA\\n\\nLIHAT LEBIH BANYAK\\n\\nLAINNYA DI DETIKNETWORK\\n\\nLIVE REPORT\\n\\nLIHAT SELENGKAPNYA\\n\\nTERPOPULER\\n\\nMenyajikan berita terhangat langsung melalui handphone Anda \\n\\nDOWNLOAD SEKARANG\\n\\nTELUSURI\\n\\nNasional\\n\\nInternasional\\n\\nEkonomi\\n\\nOlahraga\\n\\nTeknologi\\n\\nOtomotif\\n\\nHiburan\\n\\nGaya Hidup\\n\\nberbuatbaik.id\\n\\nCNN TV\\n\\nIKUTI KAMI\\n\\n\\n        © 2023 Trans Media, CNN name, logo and all associated elements (R) and © 2023 Cable News Network, Inc. A Time Warner Company. All rights reserved. CNN and the CNN logo are registered marks of Cable News Network, Inc., displayed\\n        with permission. \\n\\nTentang Kami |\\n\\nRedaksi |\\n\\nPedoman Media Siber |\\n\\nKarir |\\n\\nDisclaimer\\n\\nCNN U.S. |\\n\\nCNN International |\\n\\nCNN en ESPAÑOL |\\n\\nCNN Chile\\n\\nCNN México |\\n\\nالعربية |\\n\\n日本語 |\\n\\nTürkçe', metadata={'source': 'https://news.google.com/rss/articles/CBMigAFodHRwczovL3d3dy5jbm5pbmRvbmVzaWEuY29tL2Vrb25vbWkvMjAyMzA5MzAxMDExMzEtOTItMTAwNTQ2OC9ydW1haC1kaW5hcy1kaWdlbGVkYWgta3BrLXN5bC11bmdrYXAtaGlsaXJpc2FzaS1qb2tvd2ktZGktc3BhbnlvbNIBhAFodHRwczovL3d3dy5jbm5pbmRvbmVzaWEuY29tL2Vrb25vbWkvMjAyMzA5MzAxMDExMzEtOTItMTAwNTQ2OC9ydW1haC1kaW5hcy1kaWdlbGVkYWgta3BrLXN5bC11bmdrYXAtaGlsaXJpc2FzaS1qb2tvd2ktZGktc3BhbnlvbC9hbXA?oc=5&hl=en-US&gl=US&ceid=US:en'}),\n",
              " Document(page_content=\"Ketua KPU hingga Firli Bakal Jadi Pembicara di Rakernas PDIP\\n\\n0 komentar\\n\\n\\n                BAGIKAN \\xa0\\n                \\n\\nTautan telah disalin\\n\\nMENU\\n\\ndetikcom\\n\\nTerpopuler\\n\\nKirim Tulisan\\n\\nLive TV\\n\\ndetikPemilu NEW\\n\\nKategori Berita\\n\\ndetikNews\\n\\ndetikFinance\\n\\ndetikInet\\n\\ndetikHot\\n\\ndetikSport\\n\\nSepakbola\\n\\ndetikOto\\n\\ndetikTravel\\n\\ndetikFood\\n\\ndetikHealth\\n\\nWolipop\\n\\ndetikX\\n\\n20Detik\\n\\ndetikFoto\\n\\ndetikEdu\\n\\ndetikHikmah\\n\\ndetikProperti\\n\\nDaerah\\n\\ndetikJateng\\n\\ndetikJatim\\n\\ndetikJabar\\n\\ndetikSulsel\\n\\ndetikSumut\\n\\ndetikBali\\n\\ndetikSumbagsel\\n\\ndetikJogja NEW\\n\\nLayanan\\n\\nPasang Mata\\n\\nAds Smart\\n\\nForum\\n\\ndetikEvent\\n\\nTrans Snow World\\n\\nTrans Studio\\n\\nberbuatbaik.id\\n\\nDetik Network\\n\\nCNN Indonesia\\n\\nCNBC Indonesia\\n\\nHai Bunda\\n\\nInsertLive\\n\\nBeautynesia\\n\\nFemale Daily\\n\\nCXO Media\\n\\nHome\\n\\nBerita\\n\\nJabodetabek\\n\\nInternasional\\n\\nHukum\\n\\ndetikX\\n\\nKolom\\n\\nBlak Blakan\\n\\nPro Kontra\\n\\nInfografis\\n\\nFoto\\n\\nVideo\\n\\nIndeks\\n\\nAdsmart\\n\\nTerpopuler\\n\\nHoax or Not\\n\\nSuara Pembaca\\n\\nPemilu 2024\\n\\nPantau Pemilu\\n\\nThe Matchmaker\\n\\ndetikNews\\n\\nPemilu\\n\\nKetua KPU hingga Firli Bakal Jadi Pembicara di Rakernas PDIP\\n\\nAnggi Muliawati - \\n\\ndetikNews\\n\\nSabtu, 30 Sep 2023 08:56 WIB\\n\\nPDIP menggelar Rapat Kerja Nasional (Rakernas) ke-IV. Ketua Umum PDIP Megawati Soekarnoputri dijadwalkan akan memberi pengarahan dalam Rakernas PDIP hari kedua ini.\\n\\nBerdasarkan keterangan yang diperoleh detikcom, Sabtu (30/9/2023), sejumlah pimpinan lembaga negara juga menjadi pemateri dalam rangkaian Rakernas PDIP hari ini.\\n\\nBaca juga:  Bisik-bisik Jokowi ke Ganjar soal Kerja Sehabis Dilantik\\n\\nRapat paripurna Rakernas PDIP hari kedua akan dipimpin Ketua Badan Pemenangan Pemilu (Bappilu) PDIP Bambang Wuryanto atau Bambang Pacul, Sekretaris Jenderal PDIP Hasto Kristiyanto dan Ketua DPP PDIP Yasonna Laoly. Rapat akan digelar tertutup.\\n\\nADVERTISEMENT\\n\\nSCROLL TO CONTINUE WITH CONTENT\\n\\nKetua DPP PDIP Bidang Politik Puan Maharani akan memberikan pengarahan terkait pemenangan Pemilihan Presiden dan Pemilihan Legislatif 2024. Lalu, Ketua Komisi Pemilihan Umum (KPU) RI Hasyim Asy'ari dan Ketua Bawaslu RI Rahmat Bagja akan menjadi pembicara dalam sesi diskusi terkait Pemilu.\\n\\nKetua KPK Firli Bahuri juga akan menjadi pembicara. Dia dijadwalkan menyampaikan materi terkait peran parpol dalam pengawasan dan pencegahan politik uang jelang Pemilu 2024. Sejumlah influencer turut memberikan testimoni dalam Rakernas.\\n\\nTema Rakernas IV PDIP adalah 'Kedaulatan Pangan untuk Kesejahteraan Rakyat Indonesia' dengan sub tema 'Pangan Sebagai Lambang Supremasi Kepemimpinan Indonesia Bagi Dunia'. Rakernas IV ini digelar selama tiga hari mulai 29 September sampai 1 Oktober 2023.\\n\\nBaca juga:  PDIP: Mereka yang Mainkan Isu Mega-Jokowi Renggang Tak Punya Prestasi\\n\\nSimak juga Video 'PDIP Nilai Bisikan Jokowi ke Ganjar Merupakan Kode Keras Beri Dukungan':\\n\\n[Gambas:Video 20detik]\\n\\nrakernas pdip\\n\\npdip\\n\\npemilu 2024\\n\\nPantau Pemilu\\n\\nKenali, pantau hingga sampaikan aspirasi tentang tokoh favoritmu di bursa Pemilu 2024. Cek rekam jejak, profil, hingga berita terkini mereka sekarang!\\n\\nLihat\\n\\nBerita Terkait\\n\\nSekjen PKB: Cak Imin Bukan Cawapres Sowan ke Kiai Kalau Mau Nyapres Saja\\n\\nTerbuka Rencana Kaesang Sambangi Teuku Umar dan Hambalang\\n\\nPakar Sebut Jokowi Sudah Bayangkan Ganjar Dilantik Jadi Presiden RI\\n\\nBisik-bisik Jokowi ke Ganjar soal Kerja Sehabis Dilantik\\n\\nPNS Like, Share, Comment di Akun Kampanye Bisa Kena Sanksi Moral\\n\\nPersiapan Google Jaga Arus Informasi di Pemilu 2024\\n\\nBawaslu soal Deepfake: Ancaman yang Luar Biasa\\n\\nBertebar Janji Politik Gratiskan BBM-Makan Gratis buat Bumil, Kemenkeu: Perlu Diuji\\n\\nBerita detikcom Lainnya\\n\\nWolipop\\n\\nPernikahan Viral, Demi Penghematan Tamunya Dikasih Burger dan Nugget McD\\n\\nSepakbola\\n\\nAkhirnya Kejadian: Kapten Chelsea Cedera, Wakilnya Juga\\n\\nSepakbola\\n\\nJadwal Liga Inggris Malam Ini: Tottenham Vs Liverpool\\n\\ndetikFinance\\n\\nHeboh Pramugari Kereta Cepat Wajib Bisa Mandarin, Emang Benar?\\n\\ndetikTravel\\n\\nMain ke Hub Space, Harus Banget Foto-foto di Sini\\n\\ndetikNews\\n\\n3 Penemuan di Rumah Dinas Mentan: 12 Senpi hingga Uang Puluhan Miliar\\n\\ndetikOto\\n\\nSpek SUV Listrik Honda Prologue, Lebih Bongsor dari CR-V\\n\\ndetikInet\\n\\nIce Cold Rilis di Netflix, Netizen Jadi 'Detektif' Dadakan Kasus Jessica Wongso\\n\\npart of \\n\\nConnect With Us\\n\\nCopyright @ 2023 detikcom. \\n\\nKategori\\n\\ndetikNews\\n\\ndetikEdukasi\\n\\ndetikFinance\\n\\ndetikInet\\n\\ndetikHot\\n\\ndetikSport\\n\\nSepakbola\\n\\ndetikOto\\n\\ndetikProperti\\n\\ndetikTravel\\n\\ndetikFood\\n\\ndetikHealth\\n\\nWolipop\\n\\ndetikX\\n\\n20Detik\\n\\ndetikFoto\\n\\ndetikHikmah\\n\\nLayanan\\n\\nberbuatbaik.id\\n\\nPasang Mata\\n\\nAdsmart\\n\\nForum\\n\\ndetikEvent\\n\\nTrans Snow World\\n\\nTrans Studio\\n\\nInformasi\\n\\nRedaksi\\n\\nPedoman Media Siber\\n\\nKarir\\n\\nKotak Pos\\n\\nMedia Partner\\n\\nInfo Iklan\\n\\nPrivacy Policy\\n\\nDisclaimer\\n\\nJaringan Media\\n\\nCNN Indonesia\\n\\nCNBC Indonesia\\n\\nHaibunda\\n\\nInsertlive\\n\\nBeautynesia\\n\\nFemale Daily\\n\\nCXO Media\\n\\nAdvertisement\\n\\nCLOSE\", metadata={'source': 'https://news.google.com/rss/articles/CBMiZGh0dHBzOi8vbmV3cy5kZXRpay5jb20vcGVtaWx1L2QtNjk1NzYzNS9rZXR1YS1rcHUtaGluZ2dhLWZpcmxpLWJha2FsLWphZGktcGVtYmljYXJhLWRpLXJha2VybmFzLXBkaXDSAWhodHRwczovL25ld3MuZGV0aWsuY29tL3BlbWlsdS9kLTY5NTc2MzUva2V0dWEta3B1LWhpbmdnYS1maXJsaS1iYWthbC1qYWRpLXBlbWJpY2FyYS1kaS1yYWtlcm5hcy1wZGlwL2FtcA?oc=5&hl=en-US&gl=US&ceid=US:en'})]"
            ]
          },
          "metadata": {},
          "execution_count": 18
        }
      ]
    },
    {
      "cell_type": "markdown",
      "source": [
        "### Summarize News with Vertex PALM API\n",
        "\n",
        "The next step is calling `text-bison@001` to generate the news summary. We need to supply prompt to tell the model on how to summarize the text.\n",
        "\n",
        "\n",
        "**Prompting**\n",
        "\n",
        "Correct prompting is essential for getting accurate results from a LLM. Supply `prompt_template`  with prompt text to tell the model to generate news summary, using the following steps:\n",
        "  * summary consists of maximum 100 words\n",
        "  * If the text cannot be found or error, return: \"Content empty\"\n",
        "  * Use only materials from the text supplied\n",
        "  * Create summary in Bahasa Indonesia\n",
        "\n"
      ],
      "metadata": {
        "id": "-Re7KBsUOiX1"
      }
    },
    {
      "cell_type": "code",
      "source": [
        "#prompting to perform news summary\n",
        "prompt_template = \"\"\"Generate summary for the following text, using the following steps:\n",
        "                     1. summary consists of maximum 100 words\n",
        "                     2. If the text cannot be found or error, return: \"Content empty\"\n",
        "                     3. Use only materials from the text supplied\n",
        "                     3. Create summary in Bahasa Indonesia\n",
        "\n",
        "                    \"{text}\"\n",
        "                    SUMMARY:\"\"\"\n",
        "\n",
        "prompt = PromptTemplate.from_template(prompt_template)\n",
        "\n",
        "#declare LLM model\n",
        "llm = VertexAI(temperature=0.1,\n",
        "               model='text-bison@001S',\n",
        "               top_k=40,\n",
        "               top_p=0.8,\n",
        "               max_output_token=512)"
      ],
      "metadata": {
        "id": "8FNzSR9f-y3C"
      },
      "execution_count": 19,
      "outputs": []
    },
    {
      "cell_type": "markdown",
      "source": [
        "Wrap the summarization process inside a function to loop collections of news urls. The generate_summary function perform the following:\n",
        "- Retrieve news content from each urls\n",
        "- Generate summary for each news contents\n",
        "- Print the output"
      ],
      "metadata": {
        "id": "P1gy6A9uTqOo"
      }
    },
    {
      "cell_type": "code",
      "source": [
        "# create function to generate news summary based on list of news urls\n",
        "# Load URL , get news content and summarize\n",
        "def generate_summary(docnews):\n",
        "    for item in docnews:\n",
        "        #extract news content\n",
        "        loader = UnstructuredURLLoader(urls=[item['url']])\n",
        "        data = loader.load()\n",
        "\n",
        "        #summarize using stuff for easy processing\n",
        "        chain = load_summarize_chain(llm,\n",
        "                                    chain_type=\"stuff\",\n",
        "                                    prompt=prompt)\n",
        "        summary = chain.run(data)\n",
        "\n",
        "        #show summary for each news headlines\n",
        "        print(item['title'])\n",
        "        print(item['publisher']['title'], item['published date'])\n",
        "        print(summary, '\\n')"
      ],
      "metadata": {
        "id": "u25A_j2I2Q74"
      },
      "execution_count": 20,
      "outputs": []
    },
    {
      "cell_type": "code",
      "source": [
        "#call the function and generate summary for news by keyword\n",
        "generate_summary(news_by_keyword)"
      ],
      "metadata": {
        "colab": {
          "base_uri": "https://localhost:8080/"
        },
        "id": "2cMSEdYZAyI2",
        "outputId": "21db5240-a42c-42f1-873c-dc7b746e97eb"
      },
      "execution_count": 21,
      "outputs": [
        {
          "output_type": "stream",
          "name": "stdout",
          "text": [
            "Kaesang Jadi Ketum PSI, Pengamat: Jokowi Kirim Pesan Ancaman ... - Republika Online\n",
            "Republika Online Fri, 29 Sep 2023 13:50:24 GMT\n",
            " Putra bungsu Presiden Joko Widodo, Kaesang Pangarep, baru saja terjun ke dunia politik dengan menjabat sebagai ketua umum Partai Solidaritas Indonesia (PSI). Pengamat menilai langkah ini sebagai bentuk perlawanan Kaesang terhadap ibunya, Megawati Soekarnoputri, yang merupakan ketua umum PDIP. Jokowi juga dianggap mengirimkan pesan ancaman kepada Megawati dan PDIP jika pendukungnya beralih ke PSI. \n",
            "\n",
            "PSI Sambut Baik Jika Jokowi Bergabung Jadi Kader Susul Kaesang - CNN Indonesia\n",
            "CNN Indonesia Fri, 29 Sep 2023 20:16:00 GMT\n",
            " PSI menyatakan akan menyambut baik jika Presiden Joko Widodo bergabung menjadi kader partai seperti putranya, Kaesang Pangarep. \n",
            "\n",
            "PSI merupakan partai yang terinspirasi oleh Jokowi sejak awal berdiri. Jokowi dinilai telah menjadi pemimpin yang hadir membawa perubahan untuk masyarakat Indonesia. \n",
            "\n",
            "Kehadiran Kaesang di PSI menambah semangat partai menghadapi Pemilu 2024. PSI menargetkan memperoleh kursi DPR dengan meraih 4 persen suara nasional dalam Pemilu 2024. \n",
            "\n",
            "Kejutan 60 Jam dari \"Super\" Kaesang - kompas.id\n",
            "kompas.id Sat, 30 Sep 2023 02:15:17 GMT\n",
            " Putra bungsu Presiden Joko Widodo, Kaesang Pangarep, bergabung dengan Partai Solidaritas Indonesia (PSI) dan langsung ditetapkan sebagai Ketua Umum PSI periode 2023-2028. \n",
            "\n",
            "Keputusan tersebut menuai kontroversi karena Kaesang belum genap 60 jam menjadi kader PSI dan belum memenuhi syarat sebagai anggota DPP. \n",
            "\n",
            "PSI berdalih bahwa penentuan ketua umum oleh dewan pembina sesuai dengan AD/ART partai dan aspirasi pengurus, kader, dan akar rumput. \n",
            "\n",
            "Kaesang Pastikan PSI Terbuka, Bakal Datang ke Hambalang dan Teuku Umar - detikNews\n",
            "detikNews Fri, 29 Sep 2023 07:35:59 GMT\n",
            " Putra bungsu Presiden Joko Widodo, Kaesang Pangarep, memastikan bahwa Partai Solidaritas Indonesia (PSI) yang dipimpinnya terbuka untuk semua partai. Dia mengatakan, PSI akan datang ke Hambalang untuk menemui Prabowo Subianto dan juga ke Teuku Umar, markas Ketua Umum PDIP Megawati Soekarnoputri. \n",
            "\n",
            "PKS Curiga Ada Skenario Penunjukkan Kaesang Ketum PSI - Metro TV News\n",
            "Metro TV News Fri, 29 Sep 2023 09:40:15 GMT\n",
            " PKS mencurigai adanya skenario penunjukan Kaesang Pangarep sebagai ketua umum PSI. Hal ini diduga terkait dengan uji materi yang sedang dihadapi Mahkamah Konstitusi (MK) terkait batas usia calon presiden (capres) dan calon wakil presiden (cawapres). \n",
            "\n"
          ]
        }
      ]
    },
    {
      "cell_type": "code",
      "source": [
        "#call the function and generate summary for news by topics\n",
        "generate_summary(news_by_topic)"
      ],
      "metadata": {
        "colab": {
          "base_uri": "https://localhost:8080/"
        },
        "id": "LUuQanOTA-Fm",
        "outputId": "9123d017-8188-4b8f-e749-70b4b4005fc0"
      },
      "execution_count": 22,
      "outputs": [
        {
          "output_type": "stream",
          "name": "stdout",
          "text": [
            "Rumah Dinas Digeledah KPK, SYL Ungkap Hilirisasi Jokowi di Spanyol - CNN Indonesia\n",
            "CNN Indonesia Sat, 30 Sep 2023 03:28:10 GMT\n",
            " Menteri Pertanian Syahrul Yasin Limpo sedang berada di Spanyol saat rumahnya digeledah oleh KPK. Di Spanyol, ia menyampaikan kebijakan hilirisasi yang digalakkan pemerintahan Joko Widodo. Ia juga mendorong Pemerintah Spanyol untuk membuka akses pasar produk hortikultura asal Indonesia secara luas. Sementara itu, KPK menggeledah rumah dinas Syahrul di Jakarta Selatan terkait kasus dugaan korupsi. \n",
            "\n",
            "Ketua KPU hingga Firli Bakal Jadi Pembicara di Rakernas PDIP - detikNews\n",
            "detikNews Sat, 30 Sep 2023 01:56:22 GMT\n",
            " Ketua KPU Hasyim Asy'ari dan Ketua Bawaslu RI Rahmat Bagja akan menjadi pembicara dalam sesi diskusi terkait Pemilu pada Rakernas PDIP. Ketua KPK Firli Bahuri juga akan menjadi pembicara menyampaikan materi terkait peran parpol dalam pengawasan dan pencegahan politik uang jelang Pemilu 2024. \n",
            "\n",
            "Ketua Umum PSI Kaesang Ungkap Kriteria Capres | Obrolan Malam Eps 146 - BeritaSatu\n",
            "BeritaSatu Fri, 29 Sep 2023 15:06:28 GMT\n",
            " YouTube adalah situs web berbagi video yang memungkinkan pengguna menonton, berbagi, dan mengunggah video. \n",
            "YouTube menyediakan berbagai macam video, termasuk video musik, film, acara TV, berita, olahraga, dan banyak lagi. \n",
            "YouTube juga memungkinkan pengguna untuk membuat dan mengelola saluran mereka sendiri, serta berinteraksi dengan pengguna lain melalui komentar, suka, dan tidak suka. \n",
            "\n",
            "Sosok Ketua Geng Pelaku \"Bullying\" Cilacap, Juara Silat dan Pernah Dikeluarkan dari Sekolah - Kompas.com - Kompas.com\n",
            "Kompas.com Fri, 29 Sep 2023 15:47:00 GMT\n",
            " Seorang ketua geng pelaku bullying di Cilacap, Jawa Tengah, telah ditetapkan sebagai tersangka. Ia diketahui pernah berpindah-pindah sekolah dan dikeluarkan dari sekolah sebelumnya karena terlibat perkelahian.  \n",
            "\n",
            "Usai Bertemu Prabowo, Gus Kautsar Ajak Santri Dukung Anies-Cak Imin - VIVA.co.id\n",
            "VIVA.co.id Fri, 29 Sep 2023 23:15:41 GMT\n",
            " Pasangan bakal calon presiden dan wakil presiden Anies Rasyid Baswedan dan Muhaimin Iskandar tiba di Pondok Pesantren (Ponpes) Mambaul Ma'arif Denanyar Jombang pada Jumat, 29 September 2023. \n",
            "\n",
            "Mereka disambut oleh para kiai, nyai dan gus yang ada di Jombang dan beberapa daerah di Jawa Timur. Salah satu kiai muda kharismatik sekaligus pengasuh Ponpes Al Falah, Ploso Mojo, Kabupaten Kediri, Kiai Haji Muhammad Abdurrahman al-Kautsar, menilai sosok duet AMIN merupakan \n",
            "\n"
          ]
        }
      ]
    },
    {
      "cell_type": "code",
      "source": [],
      "metadata": {
        "id": "Flcpa_NbWziZ"
      },
      "execution_count": null,
      "outputs": []
    }
  ]
}